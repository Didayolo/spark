{
 "cells": [
  {
   "cell_type": "code",
   "execution_count": 5,
   "metadata": {
    "collapsed": false
   },
   "outputs": [],
   "source": [
    "#!/usr/bin/env python\n",
    "# -*- coding: utf-8 -*-\n",
    "\n",
    "import matplotlib.pyplot as plt\n",
    "\n",
    "plt.grid(True)\n",
    "plt.plot([2,4,8], [2.33,4.18,695.35], \"r\", linewidth=0.8, marker=\"+\", label=\"Produit cartesien\")\n",
    "plt.plot([4,6,8,10,12,14,16], [0.32,0.353,0.382,0.429,1.073,8.6,135.07], \"b\", linewidth=0.8, marker=\"+\", label=\"Produit cartesien (flat)\")\n",
    "plt.axis([0, 17, 0, 720])\n",
    "plt.xlabel('n')\n",
    "plt.ylabel('Temps (secondes)')\n",
    "plt.legend(loc=1)    \n",
    "plt.show()\n"
   ]
  },
  {
   "cell_type": "code",
   "execution_count": null,
   "metadata": {
    "collapsed": false
   },
   "outputs": [],
   "source": []
  }
 ],
 "metadata": {
  "kernelspec": {
   "display_name": "Python 2",
   "language": "python",
   "name": "python2"
  },
  "language_info": {
   "codemirror_mode": {
    "name": "ipython",
    "version": 2
   },
   "file_extension": ".py",
   "mimetype": "text/x-python",
   "name": "python",
   "nbconvert_exporter": "python",
   "pygments_lexer": "ipython2",
   "version": "2.7.13"
  }
 },
 "nbformat": 4,
 "nbformat_minor": 0
}
