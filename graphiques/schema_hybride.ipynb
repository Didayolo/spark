{
 "metadata": {
  "name": "",
  "signature": "sha256:ec87df6df888808d641c29f6c2c0a7e314a7e124917fed0f6bffed576c53c3c1"
 },
 "nbformat": 3,
 "nbformat_minor": 0,
 "worksheets": [
  {
   "cells": [
    {
     "cell_type": "code",
     "collapsed": false,
     "input": [
      "#!/usr/bin/env python\n",
      "# -*- coding: utf-8 -*-\n",
      "\n",
      "import matplotlib.pyplot as plt\n",
      "import numpy as np\n",
      "\n",
      "x=np.linspace(0,12,10)\n",
      "\n",
      "plt.plot(x, x*4, \"b\", linewidth=0.8, label=\"Version optimisee\")\n",
      "plt.plot(x, x**2, \"r\", linewidth=0.8, label=\"Version naive\")\n",
      "plt.axis([0, 12, 0, 110])\n",
      "plt.xlabel('Taille des donnees')\n",
      "plt.ylabel('Complexite')\n",
      "plt.legend(loc=2)    \n",
      "plt.show()\n"
     ],
     "language": "python",
     "metadata": {},
     "outputs": [],
     "prompt_number": 2
    },
    {
     "cell_type": "code",
     "collapsed": false,
     "input": [],
     "language": "python",
     "metadata": {},
     "outputs": [],
     "prompt_number": 1
    },
    {
     "cell_type": "code",
     "collapsed": false,
     "input": [],
     "language": "python",
     "metadata": {},
     "outputs": []
    }
   ],
   "metadata": {}
  }
 ]
}