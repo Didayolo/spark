{
 "metadata": {
  "name": "",
  "signature": "sha256:04b64614e5b79a6adf373af501c7ae69aa9c79004429bf9975af7977954642ac"
 },
 "nbformat": 3,
 "nbformat_minor": 0,
 "worksheets": [
  {
   "cells": [
    {
     "cell_type": "code",
     "collapsed": false,
     "input": [
      "#!/usr/bin/env python\n",
      "# -*- coding: utf-8 -*-\n",
      "\n",
      "import matplotlib.pyplot as plt\n",
      "\n",
      "plt.grid(True)\n",
      "plt.plot([2,4,8], [2.33,4.18,695.35], \"r\", linewidth=0.8, marker=\"+\", label=\"Produit cartesien\")\n",
      "plt.plot([4,5,6,7,8,9,10,11,12,13,14,15,16], [0.155,0.168,0.174,0.175,0.178,0.279,0.665,2.362,9.72,35.214,140.018,562.658,2255.775], \"b\", linewidth=0.8, marker=\"+\", label=\"Approche A\")\n",
      "plt.plot([4,5,6,7,8,9,10,11,12,13,14,15,16], [0.10,0.115,0.144,0.152,0.165,0.225,0.474,1.37,4.97,19.407,79.117,307.068,1236.232], \"g\", linewidth=0.8, marker=\"+\", label=\"Approche D\")\n",
      "plt.axis([0, 18, 0, 2500])\n",
      "plt.xlabel('n')\n",
      "plt.ylabel('Temps (secondes)')\n",
      "plt.legend(loc=2)    \n",
      "plt.show()\n"
     ],
     "language": "python",
     "metadata": {},
     "outputs": [],
     "prompt_number": 3
    },
    {
     "cell_type": "code",
     "collapsed": false,
     "input": [],
     "language": "python",
     "metadata": {},
     "outputs": [],
     "prompt_number": 2
    },
    {
     "cell_type": "code",
     "collapsed": false,
     "input": [],
     "language": "python",
     "metadata": {},
     "outputs": []
    }
   ],
   "metadata": {}
  }
 ]
}