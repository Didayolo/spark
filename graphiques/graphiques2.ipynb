{
 "metadata": {
  "name": "",
  "signature": "sha256:8902b93db956f335b2af5ed24518b3339d32c2b48695ec86bb4b75190f95b68d"
 },
 "nbformat": 3,
 "nbformat_minor": 0,
 "worksheets": [
  {
   "cells": [
    {
     "cell_type": "code",
     "collapsed": false,
     "input": [
      "#!/usr/bin/env python\n",
      "# -*- coding: utf-8 -*-\n",
      "\n",
      "import matplotlib.pyplot as plt\n",
      "\n",
      "plt.grid(True)\n",
      "plt.plot([4,6,8,10,12,14,16], [0.32,0.353,0.382,0.429,1.073,8.6,135.07], \"r\", linewidth=0.8, marker=\"+\", label=\"Produit cartesien (flat)\")\n",
      "plt.axis([0, 17, 0, 140])\n",
      "plt.xlabel('n')\n",
      "plt.ylabel('Temps (secondes)')\n",
      "plt.legend(loc=2)    \n",
      "plt.show()\n"
     ],
     "language": "python",
     "metadata": {},
     "outputs": [],
     "prompt_number": 3
    },
    {
     "cell_type": "code",
     "collapsed": false,
     "input": [],
     "language": "python",
     "metadata": {},
     "outputs": []
    }
   ],
   "metadata": {}
  }
 ]
}