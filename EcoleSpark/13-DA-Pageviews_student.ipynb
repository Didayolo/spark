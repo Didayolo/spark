{
 "cells": [
  {
   "cell_type": "markdown",
   "metadata": {
    "deletable": true,
    "editable": true
   },
   "source": [
    "![Spark Logo](http://curriculum-release.s3-website-us-west-2.amazonaws.com/wiki-book/general/logo_spark.png)\n",
    "\n",
    "**Objective:**\n",
    "Analyze Desktop vs Mobile traffic to English Wikipedia (continued)\n",
    "\n",
    "**Time to Complete:**\n",
    "20 mins\n",
    "\n",
    "**Data Source:**\n",
    "pageviews_by_second (<a href=\"http://datahub.io/en/dataset/english-wikipedia-pageviews-by-second\" target=\"_blank\">255 MB</a>)\n",
    "\n",
    "**Business Questions:**\n",
    "\n",
    "* Question # 1) How many total incoming requests were to the mobile site vs the desktop site?\n",
    "* Question # 2) What is the start and end range of time for the pageviews data? How many days of data is in the DataFrame?\n",
    "* Question # 3) What is the avg/min/max for the number of requests received for Mobile and Desktop views?\n",
    "* Question # 4) Which day of the week does Wikipedia get the most traffic?\n",
    "* Question # 5) Can you visualize both the mobile and desktop site requests in a line chart to compare traffic between both sites by day of the week?\n",
    "* Question # 6) Why is there so much more traffic on Monday vs. other days of the week?\n",
    "\n",
    "**Technical Accomplishments:**\n",
    "- Give a DataFrame a human-readable name when caching\n",
    "- Cast a String col type into a Timestamp col type\n",
    "- Browse the Spark SQL API docs\n",
    "- Learn how to use \"Date time functions\"\n",
    "- Create and use a User Defined Function (UDF)\n",
    "- Make a Databricks bar chart visualization\n",
    "- Join 2 DataFrames\n",
    "- Make a Matplotlib visualization\n",
    "\n",
    "**NOTE** Please run this notebook in a Spark 2.0 cluster."
   ]
  },
  {
   "cell_type": "markdown",
   "metadata": {
    "deletable": true,
    "editable": true
   },
   "source": [
    "Attach to, and then restart your cluster first to clear out old memory caches and get to a default, standard environment. The restart should take 1 - 2 minutes.\n",
    "\n",
    "![Restart Cluster](http://curriculum-release.s3-website-us-west-2.amazonaws.com/wiki-book/general/restart_cluster.png)"
   ]
  },
  {
   "cell_type": "markdown",
   "metadata": {
    "deletable": true,
    "editable": true
   },
   "source": [
    "####![Wikipedia Logo Tiny](http://curriculum-release.s3-website-us-west-2.amazonaws.com/wiki-book/general/logo_wikipedia_tiny.png) ![Spark Logo Tiny](http://curriculum-release.s3-website-us-west-2.amazonaws.com/wiki-book/general/logo_spark_tiny.png) **Continue Exploring Pageviews By Second**"
   ]
  },
  {
   "cell_type": "markdown",
   "metadata": {
    "deletable": true,
    "editable": true
   },
   "source": [
    "In this notebook, we will continue exploring the Wikipedia pageviews by second data."
   ]
  },
  {
   "cell_type": "markdown",
   "metadata": {
    "deletable": true,
    "editable": true
   },
   "source": [
    "First, change the shuffle.partitions option to 8:"
   ]
  },
  {
   "cell_type": "code",
   "execution_count": null,
   "metadata": {
    "collapsed": true,
    "deletable": true,
    "editable": true
   },
   "outputs": [],
   "source": [
    "spark.conf.set(\"spark.sql.shuffle.partitions\", \"8\")"
   ]
  },
  {
   "cell_type": "markdown",
   "metadata": {
    "deletable": true,
    "editable": true
   },
   "source": [
    "We're going to read the raw pageviews-by-second data. This data is stored in a TSV (tab-separated value), so we can read it using\n",
    "the add-on [Spark CSV](https://spark-packages.org/package/databricks/spark-csv) package. (Note: In Spark 2.0, this package is no longer an add-on; it's built-in.)"
   ]
  },
  {
   "cell_type": "markdown",
   "metadata": {
    "deletable": true,
    "editable": true
   },
   "source": [
    "However, we don't want to let Spark CSV infer the schema, because that requires two passes over the data file. The file isn't huge, but it's more than 200 MB, so two passes is a little slow, especially for a class. So, we're going to specify the schema ourselves. Let's take a quick look at the first couple lines of the file:"
   ]
  },
  {
   "cell_type": "code",
   "execution_count": null,
   "metadata": {
    "collapsed": false
   },
   "outputs": [],
   "source": [
    "sc.textFile(\"/data/training/pageviews-by-second-tsv.gz\").take(10)"
   ]
  },
  {
   "cell_type": "markdown",
   "metadata": {
    "deletable": true,
    "editable": true
   },
   "source": [
    "Okay, so the fields appear to be:\n",
    "\n",
    "* The timestamp, in ISO 8601 format. Unfortunately, Spark SQL can't parse this automatically, so we'll have to treat it as a string and do something ugly (and tricky) to make it into a timestamp.\n",
    "* The site, which is just \"mobile\" or \"desktop\". So that's obviously a string.\n",
    "* The request count, which is an integer.\n",
    "\n",
    "We can use this information to craft our own schema, as shown below."
   ]
  },
  {
   "cell_type": "code",
   "execution_count": null,
   "metadata": {
    "collapsed": true,
    "deletable": true,
    "editable": true
   },
   "outputs": [],
   "source": [
    "from pyspark.sql.types import *\n",
    "schema = StructType([\n",
    "  StructField(\"timestamp\", StringType(), True),\n",
    "  StructField(\"site\", StringType(), True),\n",
    "  StructField(\"requests\", IntegerType(), True)\n",
    "])"
   ]
  },
  {
   "cell_type": "markdown",
   "metadata": {
    "deletable": true,
    "editable": true
   },
   "source": [
    "As noted above, Spark SQL cannot parse ISO 8601 timestamps. _We_ can, using a `java.text.SimpleDateFormat` format string, but there's no `date_parse` SQL function in the Spark SQL API.\n",
    "\n",
    "However...\n",
    "\n",
    "You _can_ parse it with relatively simple workaround. First, you need to use the Spark SQL `unix_timestamp` function, along with\n",
    "a [SimpleDateFormat](https://docs.oracle.com/javase/8/docs/api/java/text/SimpleDateFormat.html), to parse the ISO 8601 timestamp\n",
    "into a number representing the _seconds_ since January 1, 1970.\n",
    "\n",
    "Then, you can simply cast the resulting integer to a timestamp."
   ]
  },
  {
   "cell_type": "code",
   "execution_count": null,
   "metadata": {
    "collapsed": true,
    "deletable": true,
    "editable": true
   },
   "outputs": [],
   "source": [
    "from pyspark.sql.functions import *\n",
    "\n",
    "df0 = (spark.read\n",
    "            .option('delimiter', \"\\t\")\n",
    "            .option('header', 'true')\n",
    "            .schema(schema)\n",
    "            .csv('/data/training/pageviews-by-second-tsv.gz'))\n",
    "df = (df0.select(df0['site'], df0['requests'],\n",
    "                 unix_timestamp(df0['timestamp'], \"yyyy-MM-dd'T'HH:mm:ss\").cast('timestamp').alias('timestamp')))\n",
    "# Note: In versions of Spark prior to 2.0, you'll need to use this code, instead:\n",
    "\n",
    "#df0 = (sqlContext.read\n",
    "#                 .format('com.databricks.spark.csv')\n",
    "#                 .option('delimiter', \"\\t\")\n",
    "#                 .option('header', 'true')\n",
    "#                 .schema(schema)\n",
    "#                 .load('dbfs:/databricks-datasets/wikipedia-datasets/data-001/pageviews/raw/pageviews_by_second.tsv'))\n",
    "#df = (df0.select(df0['site'], df0['requests'],\n",
    "#                 unix_timestamp(df0['timestamp'], \"yyyy-MM-dd'T'HH:mm:ss\").cast('timestamp').alias('timestamp')))"
   ]
  },
  {
   "cell_type": "code",
   "execution_count": null,
   "metadata": {
    "collapsed": false,
    "deletable": true,
    "editable": true
   },
   "outputs": [],
   "source": [
    "df.show(truncate=False)"
   ]
  },
  {
   "cell_type": "code",
   "execution_count": null,
   "metadata": {
    "collapsed": false,
    "deletable": true,
    "editable": true
   },
   "outputs": [],
   "source": [
    "df.printSchema()"
   ]
  },
  {
   "cell_type": "markdown",
   "metadata": {
    "deletable": true,
    "editable": true
   },
   "source": [
    "Now, let's put the data in a more useful order."
   ]
  },
  {
   "cell_type": "code",
   "execution_count": null,
   "metadata": {
    "collapsed": true,
    "deletable": true,
    "editable": true
   },
   "outputs": [],
   "source": [
    "pageviews_df = df.orderBy(df['timestamp'], df['site'].desc())"
   ]
  },
  {
   "cell_type": "markdown",
   "metadata": {
    "deletable": true,
    "editable": true
   },
   "source": [
    "Create a temporary view.\n",
    "\n",
    "**NOTE**: In Spark 2.0, `registerTempTable` has been renamed to the `createOrReplaceTempView`, which more accurately reflects what it actually does."
   ]
  },
  {
   "cell_type": "code",
   "execution_count": null,
   "metadata": {
    "collapsed": false,
    "deletable": true,
    "editable": true
   },
   "outputs": [],
   "source": [
    "pageviews_df.createOrReplaceTempView(\"pageviews_by_second_ordered\")\n",
    "spark.table(\"pageviews_by_second_ordered\").cache()\n",
    "\n",
    "# In versions of Spark prior to 2.0, use the following code:\n",
    "\n",
    "#pageviews_df.registerTempTable('pageviews_by_second_ordered')\n",
    "#sqlContext.cacheTable('pageviews_by_second_ordered')"
   ]
  },
  {
   "cell_type": "markdown",
   "metadata": {
    "deletable": true,
    "editable": true
   },
   "source": [
    "Materialize the cache with a `count()` action:"
   ]
  },
  {
   "cell_type": "code",
   "execution_count": null,
   "metadata": {
    "collapsed": false,
    "deletable": true,
    "editable": true
   },
   "outputs": [],
   "source": [
    "pageviews_df.count() # materialize the cache"
   ]
  },
  {
   "cell_type": "markdown",
   "metadata": {
    "deletable": true,
    "editable": true
   },
   "source": [
    "You should now see the DataFrame in the Storage UI:"
   ]
  },
  {
   "cell_type": "markdown",
   "metadata": {
    "deletable": true,
    "editable": true
   },
   "source": [
    "![Clean Name and 3 partitions](http://curriculum-release.s3-website-us-west-2.amazonaws.com/wiki-book/pageviews/pageviews_cleanname_3partitions.png)"
   ]
  },
  {
   "cell_type": "markdown",
   "metadata": {
    "deletable": true,
    "editable": true
   },
   "source": [
    "Look at the first 6 rows:"
   ]
  },
  {
   "cell_type": "code",
   "execution_count": null,
   "metadata": {
    "collapsed": false,
    "deletable": true,
    "editable": true
   },
   "outputs": [],
   "source": [
    "pageviews_df.show(6)"
   ]
  },
  {
   "cell_type": "markdown",
   "metadata": {
    "deletable": true,
    "editable": true
   },
   "source": [
    "Verify that the DataFrame is indeed in memory by running a count again:"
   ]
  },
  {
   "cell_type": "code",
   "execution_count": null,
   "metadata": {
    "collapsed": false,
    "deletable": true,
    "editable": true
   },
   "outputs": [],
   "source": [
    "# This should run in less than a second.\n",
    "pageviews_df.count()"
   ]
  },
  {
   "cell_type": "markdown",
   "metadata": {
    "deletable": true,
    "editable": true
   },
   "source": [
    "####![Wikipedia + Spark Logo Tiny](http://curriculum-release.s3-website-us-west-2.amazonaws.com/wiki-book/general/wiki_spark_small.png) Q-1) How many total incoming requests were to the mobile site vs the desktop site?"
   ]
  },
  {
   "cell_type": "markdown",
   "metadata": {
    "deletable": true,
    "editable": true
   },
   "source": [
    "First, let's sum up the `requests` column to see how many total requests are in the dataset. We've already imported the SQL functions package, which includes statistical functions like `sum`, `max`, `min`, `avg`, etc."
   ]
  },
  {
   "cell_type": "code",
   "execution_count": null,
   "metadata": {
    "collapsed": false,
    "deletable": true,
    "editable": true
   },
   "outputs": [],
   "source": [
    "pageviews_df.select(sum(pageviews_df['requests'])).show()"
   ]
  },
  {
   "cell_type": "markdown",
   "metadata": {
    "deletable": true,
    "editable": true
   },
   "source": [
    "So, there are about 13.3 billion requests total."
   ]
  },
  {
   "cell_type": "markdown",
   "metadata": {
    "deletable": true,
    "editable": true
   },
   "source": [
    "But how many of the requests were for the mobile site?"
   ]
  },
  {
   "cell_type": "markdown",
   "metadata": {
    "deletable": true,
    "editable": true
   },
   "source": [
    "**Challenge 1:** Using just the commands we learned so far, can you figure out how to filter the DataFrame for just **mobile** traffic and then sum the requests column?"
   ]
  },
  {
   "cell_type": "code",
   "execution_count": null,
   "metadata": {
    "collapsed": true,
    "deletable": true,
    "editable": true
   },
   "outputs": [],
   "source": [
    "# TODO\n",
    "# Type your answer here"
   ]
  },
  {
   "cell_type": "markdown",
   "metadata": {
    "deletable": true,
    "editable": true
   },
   "source": [
    "**Challenge 2:** What about the **desktop** site? How many requests did it get?"
   ]
  },
  {
   "cell_type": "code",
   "execution_count": null,
   "metadata": {
    "collapsed": true,
    "deletable": true,
    "editable": true
   },
   "outputs": [],
   "source": [
    "# TODO\n",
    "# Type your answer here"
   ]
  },
  {
   "cell_type": "markdown",
   "metadata": {
    "deletable": true,
    "editable": true
   },
   "source": [
    "So, about twice as many were for the desktop site."
   ]
  },
  {
   "cell_type": "markdown",
   "metadata": {
    "deletable": true,
    "editable": true
   },
   "source": [
    "####![Wikipedia + Spark Logo Tiny](http://curriculum-release.s3-website-us-west-2.amazonaws.com/wiki-book/general/wiki_spark_small.png) Q-2) What is the start and end range of time for the pageviews data? How many days of data is in the DataFrame?"
   ]
  },
  {
   "cell_type": "markdown",
   "metadata": {
    "deletable": true,
    "editable": true
   },
   "source": [
    "How many different years is the data from?"
   ]
  },
  {
   "cell_type": "markdown",
   "metadata": {
    "deletable": true,
    "editable": true
   },
   "source": [
    "For the next command, we'll use `year()`, one of the date time function available in Spark. You can review which functions are available for DataFrames in the <a href=\"https://spark.apache.org/docs/latest/api/scala/index.html#org.apache.spark.sql.functions$\" target=\"_blank\">Spark API doc's SQL functions</a>, under \"Date time functions\"."
   ]
  },
  {
   "cell_type": "code",
   "execution_count": null,
   "metadata": {
    "collapsed": false,
    "deletable": true,
    "editable": true
   },
   "outputs": [],
   "source": [
    "pageviews_df.select(year(pageviews_df[\"timestamp\"])).distinct().show()"
   ]
  },
  {
   "cell_type": "markdown",
   "metadata": {
    "deletable": true,
    "editable": true
   },
   "source": [
    "The data only spans 2015. But which months?"
   ]
  },
  {
   "cell_type": "markdown",
   "metadata": {
    "deletable": true,
    "editable": true
   },
   "source": [
    "**Challenge 3:** Can you figure out how to check which months of 2015 the data covers (using the <a href=\"https://spark.apache.org/docs/latest/api/scala/index.html#org.apache.spark.sql.functions$\" target=\"_blank\">Spark API docs</a>)?"
   ]
  },
  {
   "cell_type": "code",
   "execution_count": null,
   "metadata": {
    "collapsed": true,
    "deletable": true,
    "editable": true
   },
   "outputs": [],
   "source": [
    "# TODO\n",
    "# Type your answer here"
   ]
  },
  {
   "cell_type": "markdown",
   "metadata": {
    "deletable": true,
    "editable": true
   },
   "source": [
    "The data covers the months you see above."
   ]
  },
  {
   "cell_type": "markdown",
   "metadata": {
    "deletable": true,
    "editable": true
   },
   "source": [
    "Similarly, you can discover how many weeks of timestamps are in the data and how many days of data there is:"
   ]
  },
  {
   "cell_type": "code",
   "execution_count": null,
   "metadata": {
    "collapsed": false,
    "deletable": true,
    "editable": true
   },
   "outputs": [],
   "source": [
    "# How many weeks of data are there?\n",
    "pageviews_df.select(weekofyear(pageviews_df[\"timestamp\"])).distinct().show()"
   ]
  },
  {
   "cell_type": "code",
   "execution_count": null,
   "metadata": {
    "collapsed": false,
    "deletable": true,
    "editable": true
   },
   "outputs": [],
   "source": [
    "# How many days of data are there?\n",
    "pageviews_df.select(dayofyear(pageviews_df[\"timestamp\"])).distinct().count()"
   ]
  },
  {
   "cell_type": "markdown",
   "metadata": {
    "deletable": true,
    "editable": true
   },
   "source": [
    "There is 41 days of data."
   ]
  },
  {
   "cell_type": "markdown",
   "metadata": {
    "deletable": true,
    "editable": true
   },
   "source": [
    "####![Wikipedia + Spark Logo Tiny](http://curriculum-release.s3-website-us-west-2.amazonaws.com/wiki-book/general/wiki_spark_small.png) Q-3) What is the avg/min/max for the number of requests received for Mobile and Desktop views?"
   ]
  },
  {
   "cell_type": "markdown",
   "metadata": {
    "deletable": true,
    "editable": true
   },
   "source": [
    "**Challenge 4**: To understand our data better, let's look at the average, minimum and maximum number of requests received for mobile, then desktop:"
   ]
  },
  {
   "cell_type": "code",
   "execution_count": null,
   "metadata": {
    "collapsed": true,
    "deletable": true,
    "editable": true
   },
   "outputs": [],
   "source": [
    "# TODO\n",
    "\n",
    "# Look at mobile statistics: select the average, minimum and maximum number of requests\n",
    "# Your answer here..."
   ]
  },
  {
   "cell_type": "code",
   "execution_count": null,
   "metadata": {
    "collapsed": true,
    "deletable": true,
    "editable": true
   },
   "outputs": [],
   "source": [
    "# TODO\n",
    "\n",
    "# Look at desktop statistics: select the average, minimum and maximum number of requests\n",
    "# Your answer here..."
   ]
  },
  {
   "cell_type": "markdown",
   "metadata": {
    "deletable": true,
    "editable": true
   },
   "source": [
    "There certainly appear to be more requests for the desktop site."
   ]
  },
  {
   "cell_type": "markdown",
   "metadata": {
    "deletable": true,
    "editable": true
   },
   "source": [
    "By the way, there's a really simple way to get these kinds of summary statistics on numeric columns:"
   ]
  },
  {
   "cell_type": "code",
   "execution_count": null,
   "metadata": {
    "collapsed": false,
    "deletable": true,
    "editable": true
   },
   "outputs": [],
   "source": [
    "pageviews_df.filter(\"site = 'mobile'\").describe().show()"
   ]
  },
  {
   "cell_type": "markdown",
   "metadata": {
    "deletable": true,
    "editable": true
   },
   "source": [
    "####![Wikipedia + Spark Logo Tiny](http://curriculum-release.s3-website-us-west-2.amazonaws.com/wiki-book/general/wiki_spark_small.png) Q-4) Which day of the week does Wikipedia get the most traffic?"
   ]
  },
  {
   "cell_type": "markdown",
   "metadata": {
    "deletable": true,
    "editable": true
   },
   "source": [
    "Think about how we can accomplish this. We need to pull out the day of the week (like Mon, Tues, etc) from each row, and then sum up all of the requests by day."
   ]
  },
  {
   "cell_type": "markdown",
   "metadata": {
    "deletable": true,
    "editable": true
   },
   "source": [
    "First, use the `date_format` function to extract out the day of the week from the timestamp and rename the column as \"Day of week\".\n",
    "\n",
    "Then we'll sum up all of the requests for each day and show the results."
   ]
  },
  {
   "cell_type": "code",
   "execution_count": null,
   "metadata": {
    "collapsed": false,
    "deletable": true,
    "editable": true
   },
   "outputs": [],
   "source": [
    "# Notice the use of alias() to rename the new column\n",
    "# \"E\" is a pattern in the SimpleDataFormat class in Java that extracts out the \"Day in Week\"\"\n",
    "\n",
    "# Create a new DataFrame named pageviews_by_day_of_week_df and cache it\n",
    "pageviews_by_day_of_week_df = pageviews_df.groupBy(date_format((pageviews_df[\"timestamp\"]), \"E\").alias(\"Day of week\")).sum()\n",
    "\n",
    "# Cache the DataFrame with a human-readable name\n",
    "pageviews_by_day_of_week_df.createOrReplaceTempView(\"pageviews_by_DOW\")\n",
    "spark.table(\"pageviews_by_DOW\").cache()\n",
    "\n",
    "# Prior to Spark 2.0:\n",
    "#pageviews_by_day_of_week_df.registerTempTable(\"pageviews_by_DOW\")\n",
    "#sqlContext.cacheTable(\"pageviews_by_DOW\")\n",
    "\n",
    "# Show what is in the new DataFrame\n",
    "pageviews_by_day_of_week_df.show()"
   ]
  },
  {
   "cell_type": "markdown",
   "metadata": {
    "deletable": true,
    "editable": true
   },
   "source": [
    "You can learn more about date/time patterns, like \"E\", in the <a href=\"https://docs.oracle.com/javase/8/docs/api/java/text/SimpleDateFormat.html\" target=\"_blank\">Java SimpleDateFormat</a> documentation."
   ]
  },
  {
   "cell_type": "markdown",
   "metadata": {
    "deletable": true,
    "editable": true
   },
   "source": [
    "It would help to visualize the results:"
   ]
  },
  {
   "cell_type": "code",
   "execution_count": null,
   "metadata": {
    "collapsed": false,
    "deletable": true,
    "editable": true
   },
   "outputs": [],
   "source": [
    "pageviews_by_day_of_week_df.orderBy(\"Day of week\").show()"
   ]
  },
  {
   "cell_type": "markdown",
   "metadata": {
    "deletable": true,
    "editable": true
   },
   "source": [
    "Click on the Bar chart icon above to convert the table into a bar chart:\n",
    "\n",
    "#![Bar Chart](http://curriculum-release.s3-website-us-west-2.amazonaws.com/wiki-book/pageviews/barchart_icon.png)"
   ]
  },
  {
   "cell_type": "markdown",
   "metadata": {
    "deletable": true,
    "editable": true
   },
   "source": [
    "Under the \"Plot Options\" button above, you might also need to set the Keys as \"Day of week\" and the values as \"sum(requests)\"."
   ]
  },
  {
   "cell_type": "markdown",
   "metadata": {
    "deletable": true,
    "editable": true
   },
   "source": [
    "Hmm, the ordering of the days of the week is off, because the `orderBy()` operation is ordering the days of the week alphabetically. Instead of that, let's start with Monday and end with Sunday. To accomplish this, we'll write a short User Defined Function (UDF) to prepend each `Day of week` with a number."
   ]
  },
  {
   "cell_type": "markdown",
   "metadata": {
    "deletable": true,
    "editable": true
   },
   "source": [
    "####![Spark Logo Tiny](http://curriculum-release.s3-website-us-west-2.amazonaws.com/wiki-book/general/logo_spark_tiny.png) **User Defined Functions (UDFs)**"
   ]
  },
  {
   "cell_type": "markdown",
   "metadata": {
    "deletable": true,
    "editable": true
   },
   "source": [
    "A UDF lets you code your own logic for processing column values during a DataFrame query.\n",
    "\n",
    "First, let's create a function to map a named day of the week into something with a numeric prefix:"
   ]
  },
  {
   "cell_type": "code",
   "execution_count": null,
   "metadata": {
    "collapsed": true,
    "deletable": true,
    "editable": true
   },
   "outputs": [],
   "source": [
    "_dow = {\"Mon\": \"1\", \"Tue\": \"2\", \"Wed\": \"3\", \"Thu\": \"4\", \"Fri\": \"5\", \"Sat\": \"6\", \"Sun\": \"7\"}\n",
    "def map_day_of_week(day):\n",
    "  n = _dow.get(day)\n",
    "  if n:\n",
    "    return n + \"-\" + day\n",
    "  else:\n",
    "    return \"UNKNOWN\""
   ]
  },
  {
   "cell_type": "markdown",
   "metadata": {
    "deletable": true,
    "editable": true
   },
   "source": [
    "Test the match expression:"
   ]
  },
  {
   "cell_type": "code",
   "execution_count": null,
   "metadata": {
    "collapsed": false,
    "deletable": true,
    "editable": true
   },
   "outputs": [],
   "source": [
    "map_day_of_week(\"Tue\")"
   ]
  },
  {
   "cell_type": "markdown",
   "metadata": {
    "deletable": true,
    "editable": true
   },
   "source": [
    "Great, it works! Now define a UDF that wraps this function:"
   ]
  },
  {
   "cell_type": "code",
   "execution_count": null,
   "metadata": {
    "collapsed": true,
    "deletable": true,
    "editable": true
   },
   "outputs": [],
   "source": [
    "prepend_number_udf = udf(map_day_of_week)"
   ]
  },
  {
   "cell_type": "markdown",
   "metadata": {
    "deletable": true,
    "editable": true
   },
   "source": [
    "Test the UDF to prepend the `Day of Week` column in the DataFrame with a number:"
   ]
  },
  {
   "cell_type": "code",
   "execution_count": null,
   "metadata": {
    "collapsed": false,
    "deletable": true,
    "editable": true
   },
   "outputs": [],
   "source": [
    "pageviews_by_day_of_week_df.select(prepend_number_udf(pageviews_by_day_of_week_df[\"Day of week\"])).show(7)"
   ]
  },
  {
   "cell_type": "markdown",
   "metadata": {
    "deletable": true,
    "editable": true
   },
   "source": [
    "Our UDF looks like it's working. Next, let's apply the UDF and also order the x axis from Mon -> Sun:"
   ]
  },
  {
   "cell_type": "code",
   "execution_count": null,
   "metadata": {
    "collapsed": false,
    "deletable": true,
    "editable": true
   },
   "outputs": [],
   "source": [
    "df0 = pageviews_by_day_of_week_df.withColumnRenamed(\"sum(requests)\", \"total requests\")\n",
    "df0.select(prepend_number_udf(df0[\"Day of week\"]).alias(\"dow\"), df0[\"total requests\"]).orderBy(\"dow\").show()"
   ]
  },
  {
   "cell_type": "markdown",
   "metadata": {
    "deletable": true,
    "editable": true
   },
   "source": [
    "Click on the bar chart icon again to convert the above table into a Bar Chart. Also, under the Plot Options, you may need to set the Keys as \"UDF(Day of week)\" and the values as \"total requests\"."
   ]
  },
  {
   "cell_type": "markdown",
   "metadata": {
    "deletable": true,
    "editable": true
   },
   "source": [
    "Wikipedia seems to get significantly more traffic on Mondays than other days of the week. Hmm..."
   ]
  },
  {
   "cell_type": "markdown",
   "metadata": {
    "deletable": true,
    "editable": true
   },
   "source": [
    "### This is a _completely unnecessary_ UDF.\n",
    "\n",
    "In general, don't write UDFs if built-in functions will do. We could have accomplished the exact same thing using one of the built-in\n",
    "functions in `org.apache.spark.sql.functions`.\n",
    "\n",
    "**Challenge 4**: Take a look at <http://spark.apache.org/docs/1.6.2/api/scala/index.html#org.apache.spark.sql.functions$> and try to figure out a way to create the same plot _without_ using a UDF."
   ]
  },
  {
   "cell_type": "code",
   "execution_count": null,
   "metadata": {
    "collapsed": true,
    "deletable": true,
    "editable": true
   },
   "outputs": [],
   "source": [
    "# TODO\n",
    "# Type your answer here"
   ]
  },
  {
   "cell_type": "markdown",
   "metadata": {
    "deletable": true,
    "editable": true
   },
   "source": [
    "####![Wikipedia + Spark Logo Tiny](http://curriculum-release.s3-website-us-west-2.amazonaws.com/wiki-book/general/wiki_spark_small.png) Q-5) Can you visualize both the mobile and desktop site requests in a line chart to compare traffic between both sites by day of the week?"
   ]
  },
  {
   "cell_type": "markdown",
   "metadata": {
    "deletable": true,
    "editable": true
   },
   "source": [
    "First, graph the mobile site requests:"
   ]
  },
  {
   "cell_type": "code",
   "execution_count": null,
   "metadata": {
    "collapsed": true,
    "deletable": true,
    "editable": true
   },
   "outputs": [],
   "source": [
    "df0 = (pageviews_df.filter(\"site = 'mobile'\")\n",
    "                   .groupBy(date_format((pageviews_df[\"timestamp\"]), \"u-E\").alias(\"Day of week\"))\n",
    "                   .sum()\n",
    "                   .withColumnRenamed(\"sum(requests)\", \"mobile requests\"))\n",
    "mobile_views_by_day_of_week_df = df0.select(df0[\"Day of week\"], df0[\"mobile requests\"]).orderBy(\"Day of week\")"
   ]
  },
  {
   "cell_type": "code",
   "execution_count": null,
   "metadata": {
    "collapsed": false,
    "deletable": true,
    "editable": true
   },
   "outputs": [],
   "source": [
    "mobile_views_by_day_of_week_df.show()"
   ]
  },
  {
   "cell_type": "markdown",
   "metadata": {
    "deletable": true,
    "editable": true
   },
   "source": [
    "Click on the bar chart icon again to convert the above table into a Bar Chart.\n",
    "\n",
    "Also, under the Plot Options, you may need to set the Keys as \"DOW\" and the values as \"mobile requests\"."
   ]
  },
  {
   "cell_type": "markdown",
   "metadata": {
    "deletable": true,
    "editable": true
   },
   "source": [
    "With a DataFrame for mobile views, let's create one more for desktops:"
   ]
  },
  {
   "cell_type": "code",
   "execution_count": null,
   "metadata": {
    "collapsed": true,
    "deletable": true,
    "editable": true
   },
   "outputs": [],
   "source": [
    "df0 = (pageviews_df.filter(\"site = 'desktop'\")\n",
    "                   .groupBy(date_format((pageviews_df[\"timestamp\"]), \"u-E\").alias(\"Day of week\"))\n",
    "                   .sum()\n",
    "                   .withColumnRenamed(\"sum(requests)\", \"desktop requests\"))\n",
    "desktop_views_by_day_of_week_df = df0.select(df0[\"Day of week\"], df0[\"desktop requests\"]).orderBy(\"Day of week\")"
   ]
  },
  {
   "cell_type": "markdown",
   "metadata": {
    "deletable": true,
    "editable": true
   },
   "source": [
    "We now have two DataFrames:\n",
    "* **desktopViewsByDayOfWeekDF**\n",
    "* **mobileViewsByDayOfWeekDF**\n",
    "\n",
    "We can then perform a join on the two DataFrames to create a thrid DataFrame, **allViewsByDayOfWeekDF**"
   ]
  },
  {
   "cell_type": "code",
   "execution_count": null,
   "metadata": {
    "collapsed": true,
    "deletable": true,
    "editable": true
   },
   "outputs": [],
   "source": [
    "all_views_by_day_of_week_df = (\n",
    "  mobile_views_by_day_of_week_df\n",
    "    .join(desktop_views_by_day_of_week_df,\n",
    "          mobile_views_by_day_of_week_df[\"Day of week\"] == desktop_views_by_day_of_week_df[\"Day of week\"])\n",
    ")"
   ]
  },
  {
   "cell_type": "markdown",
   "metadata": {
    "deletable": true,
    "editable": true
   },
   "source": [
    "And lastly, we can create a line chart to visualize mobile vs. desktop page views:"
   ]
  },
  {
   "cell_type": "code",
   "execution_count": null,
   "metadata": {
    "collapsed": false,
    "deletable": true,
    "editable": true
   },
   "outputs": [],
   "source": [
    "all_views_by_day_of_week_df.show()"
   ]
  },
  {
   "cell_type": "markdown",
   "metadata": {
    "deletable": true,
    "editable": true
   },
   "source": [
    "![Wikipedia + Spark Logo Tiny](http://curriculum-release.s3-website-us-west-2.amazonaws.com/wiki-book/general/wiki_spark_small.png) Q-6) Why is there so much more traffic on Monday vs. other days of the week?"
   ]
  },
  {
   "cell_type": "markdown",
   "metadata": {
    "deletable": true,
    "editable": true
   },
   "source": [
    "** Challenge 5:** Can you figure out exactly why there was so much more traffic on Mondays?"
   ]
  },
  {
   "cell_type": "code",
   "execution_count": null,
   "metadata": {
    "collapsed": true,
    "deletable": true,
    "editable": true
   },
   "outputs": [],
   "source": [
    "# Type your answer here"
   ]
  },
  {
   "cell_type": "markdown",
   "metadata": {
    "deletable": true,
    "editable": true
   },
   "source": [
    "####![Databricks Logo Tiny](http://curriculum-release.s3-website-us-west-2.amazonaws.com/wiki-book/general/logo_databricks_tiny.png) Bonus: Matplotlib visualization"
   ]
  },
  {
   "cell_type": "markdown",
   "metadata": {
    "deletable": true,
    "editable": true
   },
   "source": [
    "Let's use Matplotlib to fix the line chart visualization above so that the y-axis starts with 0."
   ]
  },
  {
   "cell_type": "markdown",
   "metadata": {
    "deletable": true,
    "editable": true
   },
   "source": [
    "You can also import Matplotlib and easily create more sophisticated plots:"
   ]
  },
  {
   "cell_type": "code",
   "execution_count": null,
   "metadata": {
    "collapsed": false,
    "deletable": true,
    "editable": true
   },
   "outputs": [],
   "source": [
    "%matplotlib inline\n",
    "import numpy as np\n",
    "import matplotlib.pyplot as plt\n",
    "\n",
    "fig1, ax = plt.subplots()\n",
    "\n",
    "# The first list of four numbers is for the x-axis and the next list is for the y-axis\n",
    "ax.plot([1,2,3,4], [1,4,9,16])\n",
    "\n",
    "#fig1"
   ]
  },
  {
   "cell_type": "markdown",
   "metadata": {
    "deletable": true,
    "editable": true
   },
   "source": [
    "Recall that we had earlier created 2 DataFrames, one with desktop views by day of week and another with mobile views by day of week:"
   ]
  },
  {
   "cell_type": "code",
   "execution_count": null,
   "metadata": {
    "collapsed": false,
    "deletable": true,
    "editable": true
   },
   "outputs": [],
   "source": [
    "desktop_views_by_day_of_week_df.show()"
   ]
  },
  {
   "cell_type": "code",
   "execution_count": null,
   "metadata": {
    "collapsed": false,
    "deletable": true,
    "editable": true
   },
   "outputs": [],
   "source": [
    "mobile_views_by_day_of_week_df.show()"
   ]
  },
  {
   "cell_type": "markdown",
   "metadata": {
    "deletable": true,
    "editable": true
   },
   "source": [
    "First let's graph only the desktop views by day of week:"
   ]
  },
  {
   "cell_type": "code",
   "execution_count": null,
   "metadata": {
    "collapsed": false,
    "deletable": true,
    "editable": true
   },
   "outputs": [],
   "source": [
    "fig2, ax = plt.subplots()\n",
    "\n",
    "# Notice that we are providing the coordinate manually for the x-axis\n",
    "ax.plot([0,1,2,3,4,5,6], [1566792176,1346947425,1346330702,1306170813,1207342832,1016427413,947169611], 'ro')\n",
    "\n",
    "# The axis() command takes a list of [xmin, xmax, ymin, ymax] and specifies the viewport of the axes\n",
    "ax.axis([0, 7, 0, 2000000000])"
   ]
  },
  {
   "cell_type": "markdown",
   "metadata": {
    "deletable": true,
    "editable": true
   },
   "source": [
    "Next graph only the mobile views by day of week:"
   ]
  },
  {
   "cell_type": "code",
   "execution_count": null,
   "metadata": {
    "collapsed": false,
    "deletable": true,
    "editable": true
   },
   "outputs": [],
   "source": [
    "fig3, ax = plt.subplots()\n",
    "ax.plot([0,1,2,3,4,5,6], [790026669,648087459,631284694,625338164,635169886,646334635,629556455], 'bo')\n",
    "\n",
    "# The axis() command takes a list of [xmin, xmax, ymin, ymax] and specifies the viewport of the axes\n",
    "ax.axis([0, 7, 0, 2000000000])"
   ]
  },
  {
   "cell_type": "markdown",
   "metadata": {
    "deletable": true,
    "editable": true
   },
   "source": [
    "Finally, let's combine the 2 plots above and also programatically get the requests data from a DataFrame (instead of manually entering the y-axis corrdinates).\n",
    "\n",
    "We need a technique to access the Scala DataFrames from the Python cells. To do this, we can register a temporary table in Scala, then call that table from Python."
   ]
  },
  {
   "cell_type": "code",
   "execution_count": null,
   "metadata": {
    "collapsed": true,
    "deletable": true,
    "editable": true
   },
   "outputs": [],
   "source": [
    "mobile_views_by_day_of_week_df.createOrReplaceTempView(\"mobileViewsByDOW\")\n",
    "desktop_views_by_day_of_week_df.createOrReplaceTempView(\"desktopViewsByDOW\")\n",
    "\n",
    "# Remember: Prior to Spark 2.0, you have to use:\n",
    "#mobile_views_by_day_of_week_df.registerTempTable(\"mobileViewsByDOW\")\n",
    "#desktop_views_by_day_of_week_df.registerTempTable(\"desktopViewsByDOW\")"
   ]
  },
  {
   "cell_type": "code",
   "execution_count": null,
   "metadata": {
    "collapsed": false,
    "deletable": true,
    "editable": true
   },
   "outputs": [],
   "source": [
    "mobile_df = spark.read.table(\"mobileViewsByDOW\")\n",
    "mobile_requests = [list(r)[1] for r in mobile_df.collect()]\n",
    "\n",
    "desktop_df = spark.read.table(\"desktopViewsByDOW\")\n",
    "desktop_requests = [list(r)[1] for r in desktop_df.collect()]\n",
    "\n",
    "print(mobile_requests, desktop_requests)"
   ]
  },
  {
   "cell_type": "markdown",
   "metadata": {
    "deletable": true,
    "editable": true
   },
   "source": [
    "We now have our two Python lists. We can use them to plot."
   ]
  },
  {
   "cell_type": "code",
   "execution_count": null,
   "metadata": {
    "collapsed": false,
    "deletable": true,
    "editable": true
   },
   "outputs": [],
   "source": [
    "fig3, ax = plt.subplots()\n",
    "\n",
    "x_axis = [0,1,2,3,4,5,6]\n",
    "\n",
    "ax.plot(x_axis, desktop_requests, marker='o', linestyle='--', color='r', label='Desktop')\n",
    "ax.plot(x_axis, mobile_requests, marker='o', label='Mobile')\n",
    "\n",
    "ax.set_title('Desktop vs Mobile site requests')\n",
    "\n",
    "ax.set_xlabel('Days of week')\n",
    "ax.set_ylabel('# of requests')\n",
    "\n",
    "ax.legend()\n",
    "\n",
    "# The axis() command takes a list of [xmin, xmax, ymin, ymax] and specifies the viewport of the axes\n",
    "ax.axis([0, 6, 0, 2000000000])\n",
    "\n",
    "ax.xaxis.set_ticks(range(len(x_axis)), ['Mon', 'Tue', 'Wed', 'Thu', 'Fri', 'Sat', 'Sun'])"
   ]
  },
  {
   "cell_type": "code",
   "execution_count": null,
   "metadata": {
    "collapsed": true
   },
   "outputs": [],
   "source": []
  }
 ],
 "metadata": {
  "anaconda-cloud": {},
  "kernelspec": {
   "display_name": "Python [Root]",
   "language": "python",
   "name": "Python [Root]"
  },
  "language_info": {
   "codemirror_mode": {
    "name": "ipython",
    "version": 3
   },
   "file_extension": ".py",
   "mimetype": "text/x-python",
   "name": "python",
   "nbconvert_exporter": "python",
   "pygments_lexer": "ipython3",
   "version": "3.5.2"
  },
  "name": "03-DA-Pageviews_student",
  "notebookId": 800010
 },
 "nbformat": 4,
 "nbformat_minor": 0
}
