{
 "cells": [
  {
   "cell_type": "markdown",
   "metadata": {},
   "source": [
    "## Graph Analysis with GraphFrames\n",
    "In this notebook we'll go over basic graph analysis using the GraphX API. The goal of this notebook is to show you how to use the GraphFrames API to perform graph analysis. We're going to be doing this with publicly available bike data from [the Bay Area Bike Share portal](http://www.bayareabikeshare.com/open-data). We're going to be specifically analyzing the second year of data.\n",
    "\n",
    "**Note: ** GraphX computation is only supported using the Scala and RDD APIs.\n",
    "\n",
    "#### Graph Theory and Graph Processing\n",
    "Graph processing is important aspect of analysis that applies to a lot of use cases. Fundamentally graph theory and processing are about defining relationships between different nodes and edges. Nodes or vertices are the units while edges are the relationships that are defined between those. This works great for social network analysis and running algorithms like [PageRank](https://en.wikipedia.org/wiki/PageRank) to better understand and weigh relationships.\n",
    "\n",
    "Some business use cases could be to look at central people in social networks [who is most popular in a group of friends], importance of papers in bibliographic networks [which papers are most referenced], and of course ranking web pages!\n",
    "\n",
    "#### Graphs and Bike Trip Data\n",
    "As mentioned, in this example we'll be using bay area bike share data. This data is free for use by the public on the website linked above. The way we're going to orient our analysis is by making every vertex a station and each trip will become an edge connecting two stations. This creates a *directed* graph.\n",
    "\n",
    "**Further Reference:**\n",
    "* [Graph Theory on Wikipedia](https://en.wikipedia.org/wiki/Graph_theory)\n",
    "* [PageRank on Wikipedia](https://en.wikipedia.org/wiki/PageRank)\n",
    "\n",
    "#### **Table of Contents**\n",
    "* **Setup & Data**\n",
    "* **Imports**\n",
    "* **Building the Graph**\n",
    "* **PageRank**\n",
    "* **Trips from Station to Station**\n",
    "* **In Degrees and Out Degrees**"
   ]
  },
  {
   "cell_type": "code",
   "execution_count": null,
   "metadata": {
    "collapsed": true
   },
   "outputs": [],
   "source": [
    "bikeStations = spark.read.option(\"header\", True).csv(\"/data/training/bikeshare/*_station_data.csv\")\n",
    "tripData = spark.read.option(\"header\", True).csv(\"/data/training/bikeshare/*_trip_data.csv\")"
   ]
  },
  {
   "cell_type": "code",
   "execution_count": null,
   "metadata": {
    "collapsed": false
   },
   "outputs": [],
   "source": [
    "bikeStations.show()"
   ]
  },
  {
   "cell_type": "code",
   "execution_count": null,
   "metadata": {
    "collapsed": false
   },
   "outputs": [],
   "source": [
    "tripData.show()"
   ]
  },
  {
   "cell_type": "code",
   "execution_count": null,
   "metadata": {
    "collapsed": false
   },
   "outputs": [],
   "source": [
    "bikeStations.printSchema()\n",
    "tripData.printSchema()"
   ]
  },
  {
   "cell_type": "code",
   "execution_count": null,
   "metadata": {
    "collapsed": true
   },
   "outputs": [],
   "source": [
    "from graphframes import *\n",
    "from pyspark.sql import *\n",
    "from pyspark.sql.functions import *"
   ]
  },
  {
   "cell_type": "markdown",
   "metadata": {},
   "source": [
    "## Building the Graph\n",
    "Now that we've imported our data, we're going to need to build our graph. To do so we're going to do two things. We are going to build the structure of the vertices (or nodes) and we're going to build the structure of the edges.\n",
    "\n",
    "You may have noticed that we have station ids inside of our `bikeStations` data but not inside of our trip data. This complicates things because we have to ensure that we have numerical data for GraphX. That means that the vertices have to be identifiable with a numeric value not a string value like station name. Therefore we have to perform some joins to ensure that we have those ids associated with each trip."
   ]
  },
  {
   "cell_type": "code",
   "execution_count": null,
   "metadata": {
    "collapsed": false
   },
   "outputs": [],
   "source": [
    "stationVertices = (bikeStations\n",
    "  .withColumnRenamed(\"name\", \"id\")\n",
    "  .select(\"id\")\n",
    "  .distinct())"
   ]
  },
  {
   "cell_type": "code",
   "execution_count": null,
   "metadata": {
    "collapsed": false
   },
   "outputs": [],
   "source": [
    "stationEdges = (tripData\n",
    "  .withColumnRenamed(\"Start Station\", \"src\")\n",
    "  .withColumnRenamed(\"End Station\", \"dst\").select(\"src\", \"dst\"))"
   ]
  },
  {
   "cell_type": "code",
   "execution_count": null,
   "metadata": {
    "collapsed": false
   },
   "outputs": [],
   "source": [
    "stationGraph = GraphFrame(stationVertices, stationEdges)\n",
    "stationGraph.cache()"
   ]
  },
  {
   "cell_type": "code",
   "execution_count": null,
   "metadata": {
    "collapsed": false
   },
   "outputs": [],
   "source": [
    "stationVertices.take(1)"
   ]
  },
  {
   "cell_type": "code",
   "execution_count": null,
   "metadata": {
    "collapsed": false
   },
   "outputs": [],
   "source": [
    "print(\"Total Number of Stations: \", stationGraph.vertices.count())\n",
    "print(\"Total Number of Trips: \", stationGraph.edges.count())\n",
    "# sanity check\n",
    "print(\"Total Number of Trips in Original Data: \", tripData.count())"
   ]
  },
  {
   "cell_type": "markdown",
   "metadata": {},
   "source": [
    "Now that we're all set up and have computed some basic statistics, let's run some algorithms!\n",
    "\n",
    "## PageRank\n",
    "\n",
    "GraphX includes a number of built-in algorithms to leverage. [PageRank](https://en.wikipedia.org/wiki/PageRank) is one of the more popular ones popularized by the Google Search Engine and created by Larry Page. To quote Wikipedia:\n",
    "\n",
    "> PageRank works by counting the number and quality of links to a page to determine a rough estimate of how important the website is. The underlying assumption is that more important websites are likely to receive more links from other websites.\n",
    "\n",
    "What's awesome about this concept is that it readily applies to any graph type structure be them web pages or bike stations. Let's go ahead and run PageRank on our data, we can either run it for a set number of iterations or until convergence. Passing an Integer into `pageRank` will run for a set number of iterations while a Double will run until convergence."
   ]
  },
  {
   "cell_type": "code",
   "execution_count": null,
   "metadata": {
    "collapsed": false
   },
   "outputs": [],
   "source": [
    "# TODO\n",
    "ranks = stationGraph"
   ]
  },
  {
   "cell_type": "code",
   "execution_count": null,
   "metadata": {
    "collapsed": false
   },
   "outputs": [],
   "source": [
    "ranks.sort(ranks.pagerank.desc()).show()"
   ]
  },
  {
   "cell_type": "markdown",
   "metadata": {},
   "source": [
    "Answer should be\n",
    "* San Jose Diridon Caltrain Station\n",
    "* San Francisco Caltrain (Townsend at 4th)\n",
    "* Mountain View Caltrain Station\n",
    "* Redwood City Caltrain Station\n",
    "* San Francisco Caltrain 2 (330 Townsend)\n",
    "* Harry Bridges Plaza (Ferry Building)\n",
    "* 2nd at Townsend\n",
    "* Santa Clara at Almaden\n",
    "* Townsend at 7th\n",
    "* Embarcadero at Sansome\n"
   ]
  },
  {
   "cell_type": "markdown",
   "metadata": {},
   "source": [
    "We can see above that the Caltrain stations seem to be significant! This makes sense as these are natural connectors and likely one of the most popular uses of these bike share programs to get you from A to B in a way that you don't need a car!"
   ]
  },
  {
   "cell_type": "markdown",
   "metadata": {},
   "source": [
    "## Trips From Station to Station\n",
    "One question you might ask is what are the most common destinations in the dataset from location to location. We can do this by performing a grouping operator and adding the edge counts together. This will yield a new graph except each edge will now be the sum of all of the semantically same edges. Think about it this way: we have a number of trips that are the exact same from station A to station B, we just want to count those up!\n",
    "\n",
    "In the below query you'll see that we're going to grab the station to station trips that are most common and print out the top 10."
   ]
  },
  {
   "cell_type": "code",
   "execution_count": null,
   "metadata": {
    "collapsed": false
   },
   "outputs": [],
   "source": [
    "# TODO\n",
    "trips = None"
   ]
  },
  {
   "cell_type": "markdown",
   "metadata": {},
   "source": [
    "Answer should be \n",
    "* There were 9150 trips from Harry Bridges Plaza (Ferry Building) to Embarcadero at Sansome.\n",
    "* There were 8508 trips from San Francisco Caltrain 2 (330 Townsend) to Townsend at 7th.\n",
    "* There were 7620 trips from 2nd at Townsend to Harry Bridges Plaza (Ferry Building).\n",
    "* There were 6888 trips from Harry Bridges Plaza (Ferry Building) to 2nd at Townsend.\n",
    "* There were 6874 trips from Embarcadero at Sansome to Steuart at Market.\n",
    "* There were 6836 trips from Townsend at 7th to San Francisco Caltrain 2 (330 Townsend).\n",
    "* There were 6351 trips from Embarcadero at Folsom to San Francisco Caltrain (Townsend at 4th).\n",
    "* There were 6215 trips from San Francisco Caltrain (Townsend at 4th) to Harry Bridges Plaza (Ferry Building).\n",
    "* There were 6039 trips from Steuart at Market to 2nd at Townsend.\n",
    "* There were 5959 trips from Steuart at Market to San Francisco Caltrain (Townsend at 4th)."
   ]
  },
  {
   "cell_type": "markdown",
   "metadata": {},
   "source": [
    "## In Degrees and Out Degrees\n",
    "Remember that in this instance we've got a directed graph. That means that our trips our directional - from one location to another. Therefore we get access to a wealth of analysis that we can use. We can find the number of trips that go into a specific station and leave from a specific station.\n",
    "\n",
    "Naturally we can sort this information and find the stations with lots of inbound and outbound trips! Check out this definition of [Vertex Degrees](http://mathworld.wolfram.com/VertexDegree.html) for more information.\n",
    "\n",
    "Now that we've defined that process, let's go ahead and find the stations that have lots of inbound and outbound traffic."
   ]
  },
  {
   "cell_type": "code",
   "execution_count": null,
   "metadata": {
    "collapsed": false
   },
   "outputs": [],
   "source": [
    "# TODO in degrees\n",
    "inDeg = None"
   ]
  },
  {
   "cell_type": "markdown",
   "metadata": {},
   "source": [
    "Answer should be : \n",
    "* San Francisco Caltrain (Townsend at 4th) has 90532 in degrees.\n",
    "* San Francisco Caltrain 2 (330 Townsend) has 57570 in degrees.\n",
    "* Harry Bridges Plaza (Ferry Building) has 49215 in degrees.\n",
    "* Embarcadero at Sansome has 45224 in degrees.\n",
    "* 2nd at Townsend has 43717 in degrees.\n",
    "* Market at Sansome has 40518 in degrees.\n",
    "* Steuart at Market has 38981 in degrees.\n",
    "* Townsend at 7th has 38011 in degrees.\n",
    "* Temporary Transbay Terminal (Howard at Beale) has 34878 in degrees.\n",
    "* Market at 4th has 26248 in degrees."
   ]
  },
  {
   "cell_type": "code",
   "execution_count": null,
   "metadata": {
    "collapsed": false
   },
   "outputs": [],
   "source": [
    "# TODO out degrees\n",
    "outDeg = None"
   ]
  },
  {
   "cell_type": "markdown",
   "metadata": {
    "collapsed": true
   },
   "source": [
    "One interesting follow up question we could ask is what is the station with the highest ratio of in degrees but fewest out degrees. As in, what station acts as almost a pure trip sink. A station where trips end at but rarely start from."
   ]
  },
  {
   "cell_type": "code",
   "execution_count": 1,
   "metadata": {
    "collapsed": true
   },
   "outputs": [],
   "source": [
    "# TODO\n",
    "degreeRatio = None"
   ]
  },
  {
   "cell_type": "markdown",
   "metadata": {},
   "source": [
    "We can do something similar by getting the stations with the lowest in degrees to out degrees ratios, meaning that trips start from that station but don't end there as often. This is essentially the opposite of what we have above.\n"
   ]
  },
  {
   "cell_type": "code",
   "execution_count": null,
   "metadata": {
    "collapsed": true
   },
   "outputs": [],
   "source": [
    "# TODO reverse previous computation"
   ]
  },
  {
   "cell_type": "markdown",
   "metadata": {},
   "source": [
    "The conclusions of what we get from the above analysis should be relatively straightforward. If we have a higher value, that means many more trips come into that station than out, and a lower value means that many more trips leave from that station than come into it!\n",
    "Hopefully you've gotten some value out of this notebook! Graph stuctures are everywhere once you start looking for them and hopefully GraphFrames will make analyzing them easy!"
   ]
  },
  {
   "cell_type": "code",
   "execution_count": null,
   "metadata": {
    "collapsed": true
   },
   "outputs": [],
   "source": []
  }
 ],
 "metadata": {
  "anaconda-cloud": {},
  "kernelspec": {
   "display_name": "Python [Root]",
   "language": "python",
   "name": "Python [Root]"
  },
  "language_info": {
   "codemirror_mode": {
    "name": "ipython",
    "version": 3
   },
   "file_extension": ".py",
   "mimetype": "text/x-python",
   "name": "python",
   "nbconvert_exporter": "python",
   "pygments_lexer": "ipython3",
   "version": "3.5.2"
  }
 },
 "nbformat": 4,
 "nbformat_minor": 0
}
