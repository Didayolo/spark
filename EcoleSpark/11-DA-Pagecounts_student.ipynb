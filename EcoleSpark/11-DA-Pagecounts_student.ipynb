{
 "cells": [
  {
   "cell_type": "markdown",
   "metadata": {},
   "source": [
    "#### Analyzing Traffic Patterns to Wikimedia Projects\n",
    "\n",
    "**Objective:**\n",
    "Study traffic patterns to all English Wikimedia projects from the past hour\n",
    "\n",
    "**Time to Complete:**\n",
    "30 mins\n",
    "\n",
    "**Data Source:**\n",
    "201511 English Projects Pagecounts (~63 GB compressed parquet file)\n",
    "\n",
    "**Business Questions:**\n",
    "\n",
    "* Question # 1) How many different English Wikimedia projects saw traffic in the past hour?\n",
    "* Question # 2) How much traffic did each English Wikimedia project get in the past hour?\n",
    "* Question # 3) What were the 25 most popular English articles in the past hour?\n",
    "* Question # 4) How many requests did the \"Apache Spark\" article recieve during this hour?\n",
    "* Question # 5) Which Apache project received the most requests during this hour?\n",
    "* Question # 6) What percentage of the 5.1 million English articles were requested in the past hour?\n",
    "* Question # 7) How many total requests were there to English Wikipedia Desktop edition in the past hour?\n",
    "* Question # 8) How many total requests were there to English Wikipedia Mobile edition in the past hour?\n",
    "\n",
    "**Technical Accomplishments:**\n",
    "- Create a DataFrame\n",
    "- Print the schema of a DataFrame\n",
    "- Use the following Transformations: `select()`, `distinct()`, `groupBy()`, `sum()`, `orderBy()`, `filter()`, `limit()`\n",
    "- Use the following Actions: `show()`, `count()`\n",
    "- Learn about Wikipedia Namespaces\n",
    "\n",
    "**NOTE**\n",
    "Please run this notebook in a Spark 2.0 cluster."
   ]
  },
  {
   "cell_type": "markdown",
   "metadata": {},
   "source": [
    "**Introduction: Wikipedia Pagecounts**\n",
    "-----------"
   ]
  },
  {
   "cell_type": "markdown",
   "metadata": {},
   "source": [
    "Until August, 2016, the Wikimedia Foundation poublished hourly page count statistics for all Wikimedia projects and languages. The projects include Wikipedia, Wikibooks, Wikitionary, Wikinews, etc. They elected to\n",
    "[stop publishing that data](https://lists.wikimedia.org/pipermail/analytics/2016-March/005060.html) because it \"does not count access to the\n",
    "mobile site, it does not filter out spider or bot traffic, and it suffers from unknown loss due to logging infrastructure limitations.\"\n",
    "\n",
    "However, the historical files are still out there, and they still make for an interesting use case. We'll be using the files from August 5, 2016 at 12:00 PM UTC. We've preloaded that data and converted it to a Parquet file for easy consumption.\n",
    "\n",
    "You can see the hourly dump files <a href=\"https://dumps.wikimedia.org/other/pagecounts-raw/\" target=\"_blank\">here</a>."
   ]
  },
  {
   "cell_type": "markdown",
   "metadata": {},
   "source": [
    "Each line in the pagecounts files contains 4 fields:\n",
    "- Project name\n",
    "- Page title\n",
    "- Number of requests the page recieved this hour\n",
    "- Total size in bytes of the content returned"
   ]
  },
  {
   "cell_type": "markdown",
   "metadata": {},
   "source": [
    "![Schema Explanation](http://curriculum-release.s3-website-us-west-2.amazonaws.com/wiki-book/pagecounts/schema_explanation.png)"
   ]
  },
  {
   "cell_type": "markdown",
   "metadata": {},
   "source": [
    "In each line, the first column (like `en`) is the Wikimedia project name. The following abbreviations are used for the first column:\n",
    "```\n",
    "wikipedia mobile: \".mw\"\n",
    "wiktionary: \".d\"\n",
    "wikibooks: \".b\"\n",
    "wikimedia: \".m\"\n",
    "wikinews: \".n\"\n",
    "wikiquote: \".q\"\n",
    "wikisource: \".s\"\n",
    "wikiversity: \".v\"\n",
    "mediawiki: \".w\"\n",
    "```\n",
    "\n",
    "Projects without a period and a following character are Wikipedia projects. So, any line starting with the column `en` refers to the English language Wikipedia (and can be requests from either a mobile or desktop client).\n",
    "\n",
    "There will only be one line starting with the column `en.mw`, which will have a total count of the number of requests to English language Wikipedia's mobile edition.\n",
    "\n",
    "`en.d` refers to English language Wiktionary.\n",
    "\n",
    "`fr` is French Wikipedia. There are over 290 language possibilities."
   ]
  },
  {
   "cell_type": "markdown",
   "metadata": {},
   "source": [
    "**Create a DataFrame**\n",
    "-----"
   ]
  },
  {
   "cell_type": "markdown",
   "metadata": {},
   "source": [
    "A `spark` object is your entry point for working with structured data (rows and columns) in Spark.\n",
    "\n",
    "Let's use the `spark` to create a DataFrame from the most recent pagecounts file:"
   ]
  },
  {
   "cell_type": "code",
   "execution_count": 10,
   "metadata": {
    "collapsed": true
   },
   "outputs": [],
   "source": [
    "pagecounts_en_all_df = spark.read.parquet('/data/training/wikipedia_visitor_stats_201511-parquet/')"
   ]
  },
  {
   "cell_type": "markdown",
   "metadata": {},
   "source": [
    "Look at the first few records in the DataFrame:"
   ]
  },
  {
   "cell_type": "code",
   "execution_count": 12,
   "metadata": {
    "collapsed": true
   },
   "outputs": [],
   "source": [
    "pagecounts_en_all_df.show()"
   ]
  },
  {
   "cell_type": "markdown",
   "metadata": {},
   "source": [
    "`printSchema()` prints out the schema for the DataFrame, the data types for each column and whether a column can be null:"
   ]
  },
  {
   "cell_type": "code",
   "execution_count": 14,
   "metadata": {
    "collapsed": true
   },
   "outputs": [],
   "source": [
    "pagecounts_en_all_df.printSchema()"
   ]
  },
  {
   "cell_type": "markdown",
   "metadata": {},
   "source": [
    "Notice above that the first 2 columns are typed as `string`, but the requests column holds an `integer` and the bytes_served column holds a `long`."
   ]
  },
  {
   "cell_type": "markdown",
   "metadata": {},
   "source": [
    "Count the number of total records (rows) in the DataFrame:"
   ]
  },
  {
   "cell_type": "code",
   "execution_count": 17,
   "metadata": {
    "collapsed": true
   },
   "outputs": [],
   "source": [
    "pagecounts_en_all_df.count()"
   ]
  },
  {
   "cell_type": "markdown",
   "metadata": {},
   "source": [
    "So, there are between 2 - 3 million rows in the DataFrame. This includes traffic to not just English Wikipedia articles, but also possibly English Wiktionary, Wikibooks, Wikinews, etc."
   ]
  },
  {
   "cell_type": "markdown",
   "metadata": {},
   "source": [
    "####![Wikipedia + Spark Logo Tiny](http://curriculum-release.s3-website-us-west-2.amazonaws.com/wiki-book/general/wiki_spark_small.png) **Q-1) How many different English Wikimedia projects saw traffic during that hour?**"
   ]
  },
  {
   "cell_type": "code",
   "execution_count": 20,
   "metadata": {
    "collapsed": true
   },
   "outputs": [],
   "source": [
    "pagecounts_en_all_df.select('project').distinct().show()"
   ]
  },
  {
   "cell_type": "markdown",
   "metadata": {},
   "source": [
    "You can see that `show()` is `only showing top 20 rows`. Let's fix this.\n",
    "\n",
    "How can we tell `show()` to display more lines?"
   ]
  },
  {
   "cell_type": "markdown",
   "metadata": {},
   "source": [
    "**Challenge 1:**\n",
    "1. Take a minute to look this up in the [Spark documentation](http://spark.apache.org/docs/latest/api/python/pyspark.sql.html#pyspark.sql.DataFrame.show).\n",
    "2. Call `show()` on this DataFrame and set its parameter to display 50 lines"
   ]
  },
  {
   "cell_type": "code",
   "execution_count": 23,
   "metadata": {
    "collapsed": true
   },
   "outputs": [],
   "source": [
    "# TODO\n",
    "\n",
    "# Type your answer here..."
   ]
  },
  {
   "cell_type": "markdown",
   "metadata": {},
   "source": [
    "**Challenge 2: ** Can you figure out how to show 10 articles that saw traffic during that hour?"
   ]
  },
  {
   "cell_type": "markdown",
   "metadata": {},
   "source": [
    "####![Wikipedia + Spark Logo Tiny](http://curriculum-release.s3-website-us-west-2.amazonaws.com/wiki-book/general/wiki_spark_small.png) **Q-2) How much traffic did each English Wikimedia project get during that hour?**"
   ]
  },
  {
   "cell_type": "markdown",
   "metadata": {},
   "source": [
    "The following command will show the total number of requests each English Wikimedia project received:"
   ]
  },
  {
   "cell_type": "code",
   "execution_count": 27,
   "metadata": {
    "collapsed": true
   },
   "outputs": [],
   "source": [
    "pagecounts_en_all_sum_df = (pagecounts_en_all_df.\n",
    "    select('project', 'requests').             # transformation\n",
    "    groupBy('project').                        # transformation\n",
    "    sum().                                     # transformation\n",
    "    orderBy('sum(requests)', ascending=False). # transformation\n",
    "    show()                                     # action\n",
    ")"
   ]
  },
  {
   "cell_type": "markdown",
   "metadata": {},
   "source": [
    "English Wikipedia desktop (en) typically gets the highest number of requests, followed by English Wikipedia mobile (en.mw)."
   ]
  },
  {
   "cell_type": "markdown",
   "metadata": {},
   "source": [
    "####![Spark Logo Tiny](http://curriculum-release.s3-website-us-west-2.amazonaws.com/wiki-book/general/logo_spark_tiny.png) **Transformations and Actions**"
   ]
  },
  {
   "cell_type": "markdown",
   "metadata": {},
   "source": [
    "####![Spark Operations](http://curriculum-release.s3-website-us-west-2.amazonaws.com/wiki-book/general/spark_ta.png)"
   ]
  },
  {
   "cell_type": "markdown",
   "metadata": {},
   "source": [
    "DataFrames support two types of operations: *transformations* and *actions*.\n",
    "\n",
    "Transformations, like `select()` or `filter()` create a new DataFrame from an existing one.\n",
    "\n",
    "Actions, like `show()` or `count()`, return a value with results to the user. Other actions like `save()` write the DataFrame to distributed storage (like S3 or HDFS)."
   ]
  },
  {
   "cell_type": "markdown",
   "metadata": {},
   "source": [
    "####![Spark T/A](http://curriculum-release.s3-website-us-west-2.amazonaws.com/wiki-book/pagecounts/trans_and_actions.png)"
   ]
  },
  {
   "cell_type": "markdown",
   "metadata": {},
   "source": [
    "Transformations contribute to a query plan,  but  nothing is executed until an action is called."
   ]
  },
  {
   "cell_type": "markdown",
   "metadata": {},
   "source": [
    "Consider opening the <a href=\"https://spark.apache.org/docs/1.6.2/api/scala/index.html#org.apache.spark.sql.DataFrame\" target=\"_blank\">DataFrame API docs</a> in a new tab to keep it handy as a reference.\n",
    "\n",
    "You can also hit 'tab' after the DataFrame name to see a drop down of the available methods:"
   ]
  },
  {
   "cell_type": "markdown",
   "metadata": {},
   "source": [
    "####![tab](http://curriculum-release.s3-website-us-west-2.amazonaws.com/wiki-book/pagecounts/tab.png)"
   ]
  },
  {
   "cell_type": "markdown",
   "metadata": {},
   "source": [
    "####![Wikipedia + Spark Logo Tiny](http://curriculum-release.s3-website-us-west-2.amazonaws.com/wiki-book/general/wiki_spark_small.png) **Q-3) What were the 25 most popular English articles during the past hour?**"
   ]
  },
  {
   "cell_type": "markdown",
   "metadata": {},
   "source": [
    "The `filter()` transformation can be used to filter a DataFrame where the language column is `en`, meaning English Wikipedia articles only:"
   ]
  },
  {
   "cell_type": "code",
   "execution_count": 38,
   "metadata": {
    "collapsed": true
   },
   "outputs": [],
   "source": [
    "# Only rows for for English Wikipedia (en) will pass this filter, removing projects like Wiktionary, Wikibooks, Wikinews, etc\n",
    "pagecounts_en_wikipedia_df = pagecounts_en_all_df.filter(pagecounts_en_all_df['project'] == \"en\")"
   ]
  },
  {
   "cell_type": "markdown",
   "metadata": {},
   "source": [
    "Notice above that transformations, like `filter()`, return back a DataFrame."
   ]
  },
  {
   "cell_type": "markdown",
   "metadata": {},
   "source": [
    "Next, we can use the `orderBy()` transformation on the requests column to order the requests in descending order:"
   ]
  },
  {
   "cell_type": "code",
   "execution_count": 41,
   "metadata": {
    "collapsed": true
   },
   "outputs": [],
   "source": [
    "# Order by the requests column, in descending order\n",
    "pagecounts_en_wikipedia_df.orderBy('requests', ascending=False).show(25)"
   ]
  },
  {
   "cell_type": "markdown",
   "metadata": {},
   "source": [
    "In Databricks, there is a special display function that displays a Dataframe in an HTML table:"
   ]
  },
  {
   "cell_type": "code",
   "execution_count": 43,
   "metadata": {
    "collapsed": true
   },
   "outputs": [],
   "source": [
    "# Display the DataFrame as an HTML table so it's easier to read.\n",
    "most_popular_en_wikipedia_df = pagecounts_en_wikipedia_df.orderBy('requests', ascending=False).limit(25)\n",
    "most_popular_en_wikipedia_df.show()"
   ]
  },
  {
   "cell_type": "markdown",
   "metadata": {},
   "source": [
    "Hmm, the result doesn't look correct. The article column contains non-articles, like: `Special:`, `File:`, `Category:`, `Portal`, etc. Let's learn about Namespaces so we can filter the non-articles out..."
   ]
  },
  {
   "cell_type": "markdown",
   "metadata": {},
   "source": [
    "####![Wikipedia Logo Tiny](http://curriculum-release.s3-website-us-west-2.amazonaws.com/wiki-book/general/logo_wikipedia_tiny.png) **Wikipedia Namespaces**"
   ]
  },
  {
   "cell_type": "markdown",
   "metadata": {},
   "source": [
    "Wikipedia has many namespaces. The 5.1 million English articles are in the 0 namespace *(in red below)*. The other namespaces are for things like:\n",
    "- Wikipedian User profiles (`User:` namespace 2)\n",
    "- Files like images or videos (`File:` namespace 6)\n",
    "- Draft articles not yet ready for publishing (`Draft:` namespace 118)\n",
    "\n",
    "The hourly pagecounts file contains traffic requests to all Wikipedia namespaces. We'll need to filter out anything that is not an article."
   ]
  },
  {
   "cell_type": "markdown",
   "metadata": {},
   "source": [
    "![namespaces](http://curriculum-release.s3-website-us-west-2.amazonaws.com/wiki-book/pagecounts/namespaces.png)\n",
    "\n",
    "Source: <a href=\"https://en.wikipedia.org/wiki/Wikipedia:Namespace\" target=\"_blank\">Wikipedia:Namespace</a>"
   ]
  },
  {
   "cell_type": "markdown",
   "metadata": {},
   "source": [
    "For example, here is the `User:` page for Jimmy Wales, a co-founder of Wikipedia:\n",
    "\n",
    "![User:jimbo_wales](http://curriculum-release.s3-website-us-west-2.amazonaws.com/wiki-book/pagecounts/user-jimbo_wales.png)\n",
    "\n",
    "Source: <a href=\"https://en.wikipedia.org/wiki/User:Jimbo_Wales\" target=\"_blank\">User:Jimbo_Wales</a>"
   ]
  },
  {
   "cell_type": "markdown",
   "metadata": {},
   "source": [
    "Which is different from the normal article page for Jimmy Wales *(this is the encyclopedic one)*:\n",
    "\n",
    "![article-jimmy_wales](http://curriculum-release.s3-website-us-west-2.amazonaws.com/wiki-book/pagecounts/article-jimmy_wales.png)\n",
    "\n",
    "Source: <a href=\"https://en.wikipedia.org/wiki/Jimmy_Wales\" target=\"_blank\">Jimmy_Wales<a/>"
   ]
  },
  {
   "cell_type": "markdown",
   "metadata": {},
   "source": [
    "Next, here is an image from the `File:` namespace of Jimmy Wales in 2010:\n",
    "\n",
    "![File:jimmy_wales_2010](http://curriculum-release.s3-website-us-west-2.amazonaws.com/wiki-book/pagecounts/file-jimmy_wales.png)\n",
    "\n",
    "Source: <a href=\"https://en.wikipedia.org/wiki/File:Jimmy_Wales_July_2010.jpg\" target=\"_blank\">File:Jimmy_Wales_July_2010.jpg</a>"
   ]
  },
  {
   "cell_type": "markdown",
   "metadata": {},
   "source": [
    "Let's filter out everything that is not an article:"
   ]
  },
  {
   "cell_type": "code",
   "execution_count": 52,
   "metadata": {
    "collapsed": true
   },
   "outputs": [],
   "source": [
    "# The 17 filters will remove everything that is not an article\n",
    "\n",
    "pagecounts_en_wikipedia_articles_only_df = (pagecounts_en_wikipedia_df\n",
    "  .filter(pagecounts_en_wikipedia_df[\"article\"].rlike(r'^((?!Special:)+)'))\n",
    "  .filter(pagecounts_en_wikipedia_df[\"article\"].rlike(r'^((?!File:)+)'))\n",
    "  .filter(pagecounts_en_wikipedia_df['article'].rlike(r'^((?!Category:)+)'))\n",
    "  .filter(pagecounts_en_wikipedia_df['article'].rlike(r'^((?!User:)+)'))\n",
    "  .filter(pagecounts_en_wikipedia_df['article'].rlike(r'^((?!Talk:)+)'))\n",
    "  .filter(pagecounts_en_wikipedia_df['article'].rlike(r'^((?!Template:)+)'))\n",
    "  .filter(pagecounts_en_wikipedia_df['article'].rlike(r'^((?!Help:)+)'))\n",
    "  .filter(pagecounts_en_wikipedia_df['article'].rlike(r'^((?!Wikipedia:)+)'))\n",
    "  .filter(pagecounts_en_wikipedia_df['article'].rlike(r'^((?!MediaWiki:)+)'))\n",
    "  .filter(pagecounts_en_wikipedia_df['article'].rlike(r'^((?!Portal:)+)'))\n",
    "  .filter(pagecounts_en_wikipedia_df['article'].rlike(r'^((?!Book:)+)'))\n",
    "  .filter(pagecounts_en_wikipedia_df['article'].rlike(r'^((?!Draft:)+)'))\n",
    "  .filter(pagecounts_en_wikipedia_df['article'].rlike(r'^((?!Education_Program:)+)'))\n",
    "  .filter(pagecounts_en_wikipedia_df['article'].rlike(r'^((?!TimedText:)+)'))\n",
    "  .filter(pagecounts_en_wikipedia_df['article'].rlike(r'^((?!Module:)+)'))\n",
    "  .filter(pagecounts_en_wikipedia_df['article'].rlike(r'^((?!Topic:)+)'))\n",
    "  .filter(pagecounts_en_wikipedia_df['article'].rlike(r'^((?!Images/)+)'))\n",
    "  .filter(pagecounts_en_wikipedia_df['article'].rlike(r'^((?!%22//upload.wikimedia.org)+)'))\n",
    "  .filter(pagecounts_en_wikipedia_df['article'].rlike(r'^((?!%22//en.wikipedia.org)+)'))\n",
    ")"
   ]
  },
  {
   "cell_type": "markdown",
   "metadata": {},
   "source": [
    "Finally, repeat the `orderBy()` transformation from earlier:"
   ]
  },
  {
   "cell_type": "code",
   "execution_count": 54,
   "metadata": {
    "collapsed": true
   },
   "outputs": [],
   "source": [
    "display(pagecounts_en_wikipedia_articles_only_df.orderBy('requests', ascending=False).limit(25))"
   ]
  },
  {
   "cell_type": "markdown",
   "metadata": {},
   "source": [
    "That looks better. Above you are seeing the 25 most requested English Wikipedia articles in the past hour!\n",
    "\n",
    "This can give you a sense of what's popular or trending on the planet right now."
   ]
  },
  {
   "cell_type": "markdown",
   "metadata": {},
   "source": [
    "####![Wikipedia + Spark Logo Tiny](http://curriculum-release.s3-website-us-west-2.amazonaws.com/wiki-book/general/wiki_spark_small.png) **Q-4) How many requests did the \"Apache Spark\" article receive during this hour? **"
   ]
  },
  {
   "cell_type": "markdown",
   "metadata": {},
   "source": [
    "**Challenge 3: ** Can you figure out how to filter the `pagecountsEnWikipediaArticlesOnlyDF` DataFrame for just `Apache_Spark`?"
   ]
  },
  {
   "cell_type": "code",
   "execution_count": 58,
   "metadata": {
    "collapsed": true
   },
   "outputs": [],
   "source": [
    "# TODO\n",
    "# Type your answer here."
   ]
  },
  {
   "cell_type": "markdown",
   "metadata": {},
   "source": [
    "####![Wikipedia + Spark Logo Tiny](http://curriculum-release.s3-website-us-west-2.amazonaws.com/wiki-book/general/wiki_spark_small.png) **Q-5) Which Apache project received the most requests during this hour? **"
   ]
  },
  {
   "cell_type": "code",
   "execution_count": 60,
   "metadata": {
    "collapsed": true
   },
   "outputs": [],
   "source": [
    "# In the Regular Expression below:\n",
    "# ^  - Matches beginning of line\n",
    "# .* - Matches any characters, except newline\n",
    "\n",
    "(pagecounts_en_wikipedia_articles_only_df.\n",
    "  .filter(pagecounts_en_wikipedia_articles_only_df[\"article\"].rlike(\"\"\"^Apache_.*\"\"\"))\n",
    "  .orderBy('requests', ascending=False)\n",
    "  .show() # By default, show will return 20 rows\n",
    ")"
   ]
  },
  {
   "cell_type": "markdown",
   "metadata": {},
   "source": [
    "####![Wikipedia + Spark Logo Tiny](http://curriculum-release.s3-website-us-west-2.amazonaws.com/wiki-book/general/wiki_spark_small.png) **Q-6) What percentage of the 5.1 million English articles were requested during the hour?**"
   ]
  },
  {
   "cell_type": "markdown",
   "metadata": {},
   "source": [
    "Start with the DataFrame that has already been filtered and contains just the English Wikipedia Articles:"
   ]
  },
  {
   "cell_type": "code",
   "execution_count": 63,
   "metadata": {
    "collapsed": true
   },
   "outputs": [],
   "source": [
    "display(pagecounts_en_wikipedia_articles_only_df)"
   ]
  },
  {
   "cell_type": "markdown",
   "metadata": {},
   "source": [
    "Call the `count()` action on the DataFrame to see how many unique English articles were requested in the last hour:"
   ]
  },
  {
   "cell_type": "code",
   "execution_count": 65,
   "metadata": {
    "collapsed": true
   },
   "outputs": [],
   "source": [
    "pagecounts_en_wikipedia_articles_only_df.count()"
   ]
  },
  {
   "cell_type": "markdown",
   "metadata": {},
   "source": [
    "The `count()` action returns back a `Long` data type in Scala and an `int` in Python."
   ]
  },
  {
   "cell_type": "markdown",
   "metadata": {},
   "source": [
    "There are currently about 5.1 million articles in English Wikipedia. So the percentage of English articles requested in the past hour is:"
   ]
  },
  {
   "cell_type": "code",
   "execution_count": 68,
   "metadata": {
    "collapsed": true
   },
   "outputs": [],
   "source": [
    "(pagecounts_en_wikipedia_articles_only_df.count() / 5100000.0) * 100"
   ]
  },
  {
   "cell_type": "markdown",
   "metadata": {},
   "source": [
    "####![Wikipedia + Spark Logo Tiny](http://curriculum-release.s3-website-us-west-2.amazonaws.com/wiki-book/general/wiki_spark_small.png) **Q-7) How many total requests were there to English Wikipedia Desktop edition?**"
   ]
  },
  {
   "cell_type": "markdown",
   "metadata": {},
   "source": [
    "The DataFrame holding English Wikipedia article requests has a 3rd column named `requests`:"
   ]
  },
  {
   "cell_type": "code",
   "execution_count": 71,
   "metadata": {
    "collapsed": true
   },
   "outputs": [],
   "source": [
    "pagecounts_en_wikipedia_articles_only_df.printSchema()"
   ]
  },
  {
   "cell_type": "markdown",
   "metadata": {},
   "source": [
    "If we `groupBy()` the project column and then call `sum()`, we can count how many total requests there were to English Wikipedia:"
   ]
  },
  {
   "cell_type": "code",
   "execution_count": 73,
   "metadata": {
    "collapsed": true
   },
   "outputs": [],
   "source": [
    "# Import the SQL functions package, which includes statistical functions like sum(), max(), min(), avg(), etc.\n",
    "from pyspark.sql.functions import *"
   ]
  },
  {
   "cell_type": "code",
   "execution_count": 74,
   "metadata": {
    "collapsed": true
   },
   "outputs": [],
   "source": [
    "display(pagecounts_en_wikipedia_df.groupBy(\"project\").sum())"
   ]
  },
  {
   "cell_type": "markdown",
   "metadata": {},
   "source": [
    "####![Wikipedia + Spark Logo Tiny](http://curriculum-release.s3-website-us-west-2.amazonaws.com/wiki-book/general/wiki_spark_small.png) **Q-8) How many total requests were there to English Wikipedia Mobile edition?**"
   ]
  },
  {
   "cell_type": "markdown",
   "metadata": {},
   "source": [
    "We'll need to start with the original, base DataFrame, which contains all the English Wikimedia project requests:"
   ]
  },
  {
   "cell_type": "code",
   "execution_count": 77,
   "metadata": {
    "collapsed": true
   },
   "outputs": [],
   "source": [
    "display(pagecounts_en_all_df.limit(5))"
   ]
  },
  {
   "cell_type": "markdown",
   "metadata": {},
   "source": [
    "**Challenge 4**: Set the table for answering this business question:\n",
    "1. First Run a `filter()` to keep just the rows referring to English Mobile. The mobile edition articles have the `project` column set to `en.m`.\n",
    "2. Count the rows in the resulting DataFrame"
   ]
  },
  {
   "cell_type": "code",
   "execution_count": 79,
   "metadata": {
    "collapsed": true
   },
   "outputs": [],
   "source": [
    "# TODO\n",
    "\n",
    "# pagecounts_en_mobile_df = <<your filter expression comes here>>\n",
    "# pagecounts_en_mobile_df.<<the action for counting elements comes here>>"
   ]
  },
  {
   "cell_type": "code",
   "execution_count": 80,
   "metadata": {
    "collapsed": true
   },
   "outputs": [],
   "source": [
    "pagecounts_en_mobile_df = pagecounts_en_all_df.filter(pagecounts_en_all_df['project'] == 'en.m')\n",
    "pagecounts_en_mobile_df.count()"
   ]
  },
  {
   "cell_type": "markdown",
   "metadata": {},
   "source": [
    "Okay, what do we have?"
   ]
  },
  {
   "cell_type": "code",
   "execution_count": 82,
   "metadata": {
    "collapsed": true
   },
   "outputs": [],
   "source": [
    "display(pagecounts_en_mobile_df)"
   ]
  },
  {
   "cell_type": "markdown",
   "metadata": {},
   "source": [
    "Let's aggregate."
   ]
  },
  {
   "cell_type": "code",
   "execution_count": 84,
   "metadata": {
    "collapsed": true
   },
   "outputs": [],
   "source": [
    "display(pagecounts_en_mobile_df.select(sum(pagecounts_en_mobile_df['requests'])))"
   ]
  },
  {
   "cell_type": "markdown",
   "metadata": {},
   "source": [
    "The requests column above displays how many total requests English Wikipedia got from mobile clients. About 50% of the traffic to English Wikipedia seems to come from mobile clients."
   ]
  },
  {
   "cell_type": "markdown",
   "metadata": {},
   "source": [
    "We will analyze the Mobile vs. Desktop traffic patterns to Wikipedia more in the next notebook."
   ]
  }
 ],
 "metadata": {
  "anaconda-cloud": {},
  "kernelspec": {
   "display_name": "Python [Root]",
   "language": "python",
   "name": "Python [Root]"
  },
  "language_info": {
   "codemirror_mode": {
    "name": "ipython",
    "version": 3
   },
   "file_extension": ".py",
   "mimetype": "text/x-python",
   "name": "python",
   "nbconvert_exporter": "python",
   "pygments_lexer": "ipython3",
   "version": "3.5.2"
  },
  "name": "01-DA-Pagecounts_student",
  "notebookId": 800143
 },
 "nbformat": 4,
 "nbformat_minor": 0
}
