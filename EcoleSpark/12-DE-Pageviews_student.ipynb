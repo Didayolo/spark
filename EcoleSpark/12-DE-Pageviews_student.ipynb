{
 "cells": [
  {
   "cell_type": "markdown",
   "metadata": {},
   "source": [
    "**Objective:**\n",
    "Analyze Desktop vs Mobile traffic to English Wikipedia\n",
    "\n",
    "**Time to Complete:**\n",
    "30 mins\n",
    "\n",
    "**Data Source:**\n",
    "pageviews_by_second (<a href=\"http://datahub.io/en/dataset/english-wikipedia-pageviews-by-second\" target=\"_blank\">255 MB</a>)\n",
    "\n",
    "**Business Questions:**\n",
    "* Question # 1) How many rows in the table refer to mobile vs desktop?\n",
    "\n",
    "**Engineering Questions:**\n",
    "* How is the data partitioned? Why is it partitioned the way it is?\n",
    "\n",
    "**Technical Accomplishments:**\n",
    "- Upload a file to Databricks using the Tables UI (optional)\n",
    "- Learn how Actions kick off Jobs + Stages\n",
    "- Understand how DataFrame partitions relate to compute tasks\n",
    "- Use Spark UI to monitor details of Job execution (input read, Shuffle, Storage UI, SQL visualization)\n",
    "- Cache a DataFrame to memory (and learn how to unpersist it)\n",
    "- Use the following transformations: `orderBy()`, `filter()`\n",
    "- Catalyst Optimizer: How DataFrame queries are converted from a Logical plan -> Physical plan\n",
    "- Configuration Option: `spark.sql.shuffle.partitions`\n",
    "\n",
    "**NOTE** Please run this notebook in a Spark 2.0 cluster."
   ]
  },
  {
   "cell_type": "markdown",
   "metadata": {},
   "source": [
    "Attach to, and then restart your cluster first to clear out old memory caches and get to a default, standard environment. The restart should take 1 - 2 minutes.\n",
    "\n",
    "![Restart Cluster](http://curriculum-release.s3-website-us-west-2.amazonaws.com/wiki-book/general/restart_cluster.png)"
   ]
  },
  {
   "cell_type": "markdown",
   "metadata": {},
   "source": [
    "**Introduction: Pageviews By Second**\n",
    "-------"
   ]
  },
  {
   "cell_type": "markdown",
   "metadata": {},
   "source": [
    "Wikipedia.com is the 7th most popular website (measured by page views and unique visitors):"
   ]
  },
  {
   "cell_type": "markdown",
   "metadata": {},
   "source": [
    "![Top Ten Global Websites2](http://curriculum-release.s3-website-us-west-2.amazonaws.com/wiki-book/pageviews/top_ten_websites.png)\n",
    "\n",
    "Source: Alexa/Aug 2015: <a href=\"https://en.wikipedia.org/wiki/List_of_most_popular_websites\" target=\"_blank\">List_of_most_popular_websites</a>"
   ]
  },
  {
   "cell_type": "markdown",
   "metadata": {},
   "source": [
    "In this notebook, we will analyze the traffic patterns to the desktop vs. mobile editions of English Wikipedia.\n",
    "\n",
    "The Wikimedia Foundation has released 41 days of pageviews data starting March 16, 2015 at midnight. Two rows are collected every second:\n",
    "- Desktop requests\n",
    "- Mobile requests"
   ]
  },
  {
   "cell_type": "markdown",
   "metadata": {},
   "source": [
    "** Let's use a premounted version of the data (from S3)**\n",
    "Let's start by taking another look at what is on our file system: run the following cell and we should see all the datasets from Amazon S3 mounted into our shard:"
   ]
  },
  {
   "cell_type": "markdown",
   "metadata": {},
   "source": [
    "Next, let's take a look in our *pageviews* folder:"
   ]
  },
  {
   "cell_type": "markdown",
   "metadata": {},
   "source": [
    "We can import this file directly with the following command:"
   ]
  },
  {
   "cell_type": "code",
   "execution_count": null,
   "metadata": {
    "collapsed": true
   },
   "outputs": [],
   "source": [
    "temp_df = (spark.read\n",
    "   .option(\"header\", \"true\")        # Use first line of all files as header\n",
    "   .option(\"inferSchema\", \"true\")   # Automatically infer data types\n",
    "   .option(\"delimiter\", \"\\t\")       # Use tab delimiter (default is comma-separator)\n",
    "   .csv(\"/data/training/pageviews-by-second-tsv.gz\")\n",
    ")\n",
    "temp_df.createOrReplaceTempView(\"pageviews_by_second\")\n",
    "\n",
    "# Note: In versions of Spark prior to 2.0, do this, instead:\n",
    "#temp_df = (sqlContext.read\n",
    "#   .format(\"com.databricks.spark.csv\")\n",
    "#   .option(\"header\", \"true\")        # Use first line of all files as header\n",
    "#   .option(\"inferSchema\", \"true\")   # Automatically infer data types\n",
    "#   .option(\"delimiter\", \"\\t\")       # Use tab delimiter (default is comma-separator)\n",
    "#   .load(\"/mnt/wikipedia-readonly/pageviews/pageviews_by_second.tsv\")\n",
    "#)\n",
    "#temp_df.registerTempTable(\"pageviews_by_second\")"
   ]
  },
  {
   "cell_type": "markdown",
   "metadata": {},
   "source": [
    "Lastly, we can verify that the \"table\" exists by using `spark` to create the `pageviewsDF` from the \"temp\" table \"pageviews_by_second\""
   ]
  },
  {
   "cell_type": "code",
   "execution_count": null,
   "metadata": {
    "collapsed": true
   },
   "outputs": [],
   "source": [
    "pageviews_df = spark.read.table(\"pageviews_by_second\")"
   ]
  },
  {
   "cell_type": "markdown",
   "metadata": {},
   "source": [
    "And then we can take a look at the first 10 records."
   ]
  },
  {
   "cell_type": "code",
   "execution_count": null,
   "metadata": {
    "collapsed": false
   },
   "outputs": [],
   "source": [
    "pageviews_df.show(10)"
   ]
  },
  {
   "cell_type": "markdown",
   "metadata": {},
   "source": [
    "Next, take note that the timestamps and/or sites are out of order. We will dig into this more later."
   ]
  },
  {
   "cell_type": "markdown",
   "metadata": {},
   "source": [
    "Click the down arrows in the cell above to see that the `show()` action kicked off 1 job and 1 stage.\n",
    "\n",
    "We will learn more about Jobs and Stages later in this lab."
   ]
  },
  {
   "cell_type": "markdown",
   "metadata": {},
   "source": [
    "`printSchema()` prints out the schema for the table, the data types for each column and whether a column can be null:"
   ]
  },
  {
   "cell_type": "code",
   "execution_count": null,
   "metadata": {
    "collapsed": false
   },
   "outputs": [],
   "source": [
    "pageviews_df.printSchema()"
   ]
  },
  {
   "cell_type": "markdown",
   "metadata": {},
   "source": [
    "Notice above that the first 2 columns are typed as `string`, while the requests column holds an `integer`."
   ]
  },
  {
   "cell_type": "markdown",
   "metadata": {},
   "source": [
    "####![Spark Logo Tiny](http://curriculum-release.s3-website-us-west-2.amazonaws.com/wiki-book/general/logo_spark_tiny.png) **Partitions and Tasks**"
   ]
  },
  {
   "cell_type": "markdown",
   "metadata": {},
   "source": [
    "DataFrames are made of one or more partitions.  To see the number of partitions a DataFrame is made of:"
   ]
  },
  {
   "cell_type": "code",
   "execution_count": null,
   "metadata": {
    "collapsed": false
   },
   "outputs": [],
   "source": [
    "pageviews_df.rdd.getNumPartitions()"
   ]
  },
  {
   "cell_type": "markdown",
   "metadata": {},
   "source": [
    "Why? Let's see how many \"cores\" we have in this cluster:"
   ]
  },
  {
   "cell_type": "markdown",
   "metadata": {},
   "source": [
    "The above cell first converts the DataFrame to an RDD, then calls the partitions method followed by the size method on the RDD. We will learn more about RDDs in a future lab. For now, just remember this handy trick to figure out the number of partitions in a DataFrame."
   ]
  },
  {
   "cell_type": "markdown",
   "metadata": {},
   "source": [
    "Here is what the DataFrame looks like:"
   ]
  },
  {
   "cell_type": "markdown",
   "metadata": {},
   "source": [
    "![4 partitions](http://curriculum-release.s3-website-us-west-2.amazonaws.com/wiki-book/pageviews/4_partitions_dashed.png)"
   ]
  },
  {
   "cell_type": "markdown",
   "metadata": {},
   "source": [
    "The dashed lines for the borders indicates that the DataFrame is still on disk and has not been cached into memory."
   ]
  },
  {
   "cell_type": "markdown",
   "metadata": {},
   "source": [
    "Count the number of records (rows) in the DataFrame:"
   ]
  },
  {
   "cell_type": "code",
   "execution_count": null,
   "metadata": {
    "collapsed": false
   },
   "outputs": [],
   "source": [
    "pageviews_df.count()"
   ]
  },
  {
   "cell_type": "markdown",
   "metadata": {},
   "source": [
    "Let's understand how Spark is actually computing the result of 7.2 million for the count action. It is important to understand the relationship between the number of partitions in a DataFrame and the number of tasks required to process a DataFrame."
   ]
  },
  {
   "cell_type": "markdown",
   "metadata": {},
   "source": [
    "In the cell above, where you ran the count, expand the Spark Jobs and Stages:\n",
    "\n",
    "![Expand Jobs and Stages](http://curriculum-release.s3-website-us-west-2.amazonaws.com/wiki-book/pageviews/count_jobs_stages_tasks.png)"
   ]
  },
  {
   "cell_type": "markdown",
   "metadata": {},
   "source": [
    "Each Spark action (like count) kicks off one or more Jobs. Above we see that one job (Job #2) was launched. *(your specific job # may be different)*\n",
    "\n",
    "Each job is comprised of one or more Stages. Above we see that two stages (Stage #2 and #3) were launched to compute the result."
   ]
  },
  {
   "cell_type": "markdown",
   "metadata": {},
   "source": [
    "To learn more details about the Job and Stages, open the Spark UI in a new tab:"
   ]
  },
  {
   "cell_type": "markdown",
   "metadata": {},
   "source": [
    "![Open Spark UI](http://curriculum-release.s3-website-us-west-2.amazonaws.com/wiki-book/pageviews/view-spark-ui.png)"
   ]
  },
  {
   "cell_type": "markdown",
   "metadata": {},
   "source": [
    "When you go to the new \"Spark UI\" tab, you should see the Jobs page, with a few completed jobs. Click on the link under Description for the Job # used to run the count action:"
   ]
  },
  {
   "cell_type": "markdown",
   "metadata": {},
   "source": [
    "![Two Completed Jobs](http://curriculum-release.s3-website-us-west-2.amazonaws.com/wiki-book/pageviews/three_completed_jobs.png)"
   ]
  },
  {
   "cell_type": "markdown",
   "metadata": {},
   "source": [
    "On the \"Details for Job #\" page, you can now see several metrics about the count Job:"
   ]
  },
  {
   "cell_type": "markdown",
   "metadata": {},
   "source": [
    "![Two Stages Colored](http://curriculum-release.s3-website-us-west-2.amazonaws.com/wiki-book/pageviews/two_stages_colored.png)"
   ]
  },
  {
   "cell_type": "markdown",
   "metadata": {},
   "source": [
    "In the screenshot above, we can see (in purple) that Stage 2 (the first Stage for the count job) took 21 seconds to run, while Stage 3 only took 0.2 seconds.\n",
    "\n",
    "Under the \"Input\" column, (in green) notice that Stage 2 read about 250 MB of data and (in orange) wrote 168 Bytes of shuffle data.\n",
    "\n",
    "Under the \"Shuffle Read\" column, we can also see that Stage 3, (in orange) read the 168 Bytes of data that Stage 2 had written.\n",
    "\n",
    "To learn more about the details of Stage 2, click the link (in red) under the Description column for Stage 2:"
   ]
  },
  {
   "cell_type": "markdown",
   "metadata": {},
   "source": [
    "On the \"Details for Stage 2\" page, scroll all the way to the bottom till you see the 8 Tasks:"
   ]
  },
  {
   "cell_type": "markdown",
   "metadata": {},
   "source": [
    "![Stage-1, 4 tasks](http://curriculum-release.s3-website-us-west-2.amazonaws.com/wiki-book/pageviews/stageone_4tasks.png)"
   ]
  },
  {
   "cell_type": "markdown",
   "metadata": {},
   "source": [
    "In the Tasks screenshot above, we can see (in green) that the first 3 tasks read 64 MB of the file, while the last task read 58 MB of the file. Also notice (in green) that the each of the 64 MB buffers that the first 3 tasks read was comprised of about 1.8 million records, but the last task that read 58 MB only read about 1.6 million records.\n",
    "\n",
    "We can also see (in purple) that each task emitted a single 42 Byte record as the Shuffle Write."
   ]
  },
  {
   "cell_type": "markdown",
   "metadata": {},
   "source": [
    "When Spark reads CSV files from S3, the input split is 64 MB. That means that Spark will launch a new task/thread to read each 64 MB split of the file.\n",
    "\n",
    "In this case, after reading the first three input splits, only 58 MB remain, so the last task reads 58 MB:"
   ]
  },
  {
   "cell_type": "markdown",
   "metadata": {},
   "source": [
    "![64 MB input split](http://curriculum-release.s3-website-us-west-2.amazonaws.com/wiki-book/pageviews/input_split.png)"
   ]
  },
  {
   "cell_type": "markdown",
   "metadata": {},
   "source": [
    "Click back in your browser to return to the \"Details of Job #\" page, then click on the link under Description to see the details of the next Stage (Stage #3):"
   ]
  },
  {
   "cell_type": "markdown",
   "metadata": {},
   "source": [
    "![Click Stage 2](http://curriculum-release.s3-website-us-west-2.amazonaws.com/wiki-book/pageviews/two_stages_clickstagetwo.png)"
   ]
  },
  {
   "cell_type": "markdown",
   "metadata": {},
   "source": [
    "Once again, scroll all the way to the bottom till you see the 1 Task for Stage 3:"
   ]
  },
  {
   "cell_type": "markdown",
   "metadata": {},
   "source": [
    "![Stage two, 1 task](http://curriculum-release.s3-website-us-west-2.amazonaws.com/wiki-book/pageviews/stage2_onetask.png)"
   ]
  },
  {
   "cell_type": "markdown",
   "metadata": {},
   "source": [
    "Notice in the screenshot above, that the single task in Stage 3 read 168 Bytes of data (4 records.)"
   ]
  },
  {
   "cell_type": "markdown",
   "metadata": {},
   "source": [
    "The diagram below explains what's going on. The count Job is kicking off two stages.\n",
    "\n",
    "Stage 2 (the first stage of the job) has 4 tasks and each task reads between 1.6 million to 1.8 million records.\n",
    "\n",
    "Each task in Stage 2 emits one record with the aggregated count that it saw in its local partition of data.\n",
    "\n",
    "Then all four tasks in Stage 2 complete.\n",
    "\n",
    "Stage 3 (the second stage of the job) starts with only one task. The task reads the 4 records from Stage 2 and performs a final aggregation and emits the number 7.2 million back to our Notebook cell as the final result of the computation!"
   ]
  },
  {
   "cell_type": "markdown",
   "metadata": {},
   "source": [
    "![Count, Physical Model](http://curriculum-release.s3-website-us-west-2.amazonaws.com/wiki-book/pageviews/count_physicalmodelwjob.png)"
   ]
  },
  {
   "cell_type": "markdown",
   "metadata": {},
   "source": [
    "####![Spark Logo Tiny](http://curriculum-release.s3-website-us-west-2.amazonaws.com/wiki-book/general/logo_spark_tiny.png) **Transformation: `orderBy()`**"
   ]
  },
  {
   "cell_type": "markdown",
   "metadata": {},
   "source": [
    "The `orderBy()` transformation can be used to order the table by the timestamp column:"
   ]
  },
  {
   "cell_type": "code",
   "execution_count": null,
   "metadata": {
    "collapsed": false
   },
   "outputs": [],
   "source": [
    "(pageviews_df\n",
    "  .orderBy(\"timestamp\")  # transformation\n",
    "  .show(10)                            # action\n",
    ")"
   ]
  },
  {
   "cell_type": "markdown",
   "metadata": {},
   "source": [
    "The first 2 rows show data from March 16, 2015 at **00:00:00** (midnight).\n",
    "\n",
    "The 3rd and 4th rows show data from a second after midnight, **00:00:01**.\n",
    "\n",
    "The DataFrame contains 2 rows for every second, one for desktop and one for mobile."
   ]
  },
  {
   "cell_type": "markdown",
   "metadata": {},
   "source": [
    "Did you notice that the first 6 rows in the DataFrame are ordered by `desktop`, then `mobile` traffic, but the last 4 rows are ordered by `mobile`, then `desktop`:"
   ]
  },
  {
   "cell_type": "markdown",
   "metadata": {},
   "source": [
    "![Out of Order](http://curriculum-release.s3-website-us-west-2.amazonaws.com/wiki-book/pageviews/out_of_order.png)"
   ]
  },
  {
   "cell_type": "markdown",
   "metadata": {},
   "source": [
    "The following command orders the rows by first the timestamp (ascending), then the site (descending) and then shows the first 10 rows again:"
   ]
  },
  {
   "cell_type": "code",
   "execution_count": null,
   "metadata": {
    "collapsed": false
   },
   "outputs": [],
   "source": [
    "pageviews_df.orderBy(pageviews_df[\"timestamp\"], pageviews_df[\"site\"].desc()).show(10)"
   ]
  },
  {
   "cell_type": "markdown",
   "metadata": {},
   "source": [
    "The `orderBy()` transformation takes from 20 to 30 seconds to run against the 255 MB pageviews file on HDFS."
   ]
  },
  {
   "cell_type": "markdown",
   "metadata": {},
   "source": [
    "####![Spark Logo Tiny](http://curriculum-release.s3-website-us-west-2.amazonaws.com/wiki-book/general/logo_spark_tiny.png) **Reading from Disk vs Memory**"
   ]
  },
  {
   "cell_type": "markdown",
   "metadata": {},
   "source": [
    "The 255 MB pageviews file is currently on S3, which means each time you scan through it, your Spark cluster has to read the 255 MB of data remotely over the network."
   ]
  },
  {
   "cell_type": "markdown",
   "metadata": {},
   "source": [
    "Once again, use the `count()` action to scan the entire 255 MB file from disk and count how many total records (rows) there are:"
   ]
  },
  {
   "cell_type": "code",
   "execution_count": null,
   "metadata": {
    "collapsed": false
   },
   "outputs": [],
   "source": [
    "pageviews_df.count()"
   ]
  },
  {
   "cell_type": "markdown",
   "metadata": {},
   "source": [
    "As we saw earlier, the pageviews DataFrame contains 7.2 million rows."
   ]
  },
  {
   "cell_type": "markdown",
   "metadata": {},
   "source": [
    "Hmm, that took about at least 20 seconds. Let's cache the DataFrame into memory to speed it up."
   ]
  },
  {
   "cell_type": "code",
   "execution_count": null,
   "metadata": {
    "collapsed": false
   },
   "outputs": [],
   "source": [
    "spark.table(\"pageviews_by_second\").cache()"
   ]
  },
  {
   "cell_type": "markdown",
   "metadata": {},
   "source": [
    "Caching is a lazy operation (meaning it doesn't take effect until you call an action that needs to read all of the data). So let's call the `count()` action again:"
   ]
  },
  {
   "cell_type": "code",
   "execution_count": null,
   "metadata": {
    "collapsed": false
   },
   "outputs": [],
   "source": [
    "# During this count() action, the data is read from HDFS and counted, and also cached\n",
    "# Note that when the count action has to also cache data, it takes longer than simply a count (like above)\n",
    "\n",
    "pageviews_df.count()"
   ]
  },
  {
   "cell_type": "markdown",
   "metadata": {},
   "source": [
    "The DataFrame should now be cached, let's run another `count()` to see the speed increase:"
   ]
  },
  {
   "cell_type": "code",
   "execution_count": null,
   "metadata": {
    "collapsed": false
   },
   "outputs": [],
   "source": [
    "pageviews_df.count()"
   ]
  },
  {
   "cell_type": "markdown",
   "metadata": {},
   "source": [
    "Notice that scanning the DataFrame takes significantly faster!"
   ]
  },
  {
   "cell_type": "markdown",
   "metadata": {},
   "source": [
    "Now that the pageviews DataFrame is cached in memory, if you go to the Spark UI tab and click on \"Storage\" (1 in image below) you'll see the \"pageviews_by_second\" DataFrame in memory:"
   ]
  },
  {
   "cell_type": "markdown",
   "metadata": {},
   "source": [
    "![Storage UI](http://curriculum-release.s3-website-us-west-2.amazonaws.com/wiki-book/pageviews/storage_ui.png)"
   ]
  },
  {
   "cell_type": "markdown",
   "metadata": {},
   "source": [
    "Notice above that the DataFrame is made of 4 partitions totaling 192 MB in size.\n",
    "\n",
    "The Storage Level for DataFrames is actually the new Tungsten Binary format.\n",
    "\n",
    "Click on the DataFrame name link under the RDD Name column (2 in image above) to see more details about the DataFrame."
   ]
  },
  {
   "cell_type": "markdown",
   "metadata": {},
   "source": [
    "![Storage UI](http://curriculum-release.s3-website-us-west-2.amazonaws.com/wiki-book/pageviews/storage_ui_details.png)"
   ]
  },
  {
   "cell_type": "markdown",
   "metadata": {},
   "source": [
    "Although the first 3 input splits read from S3 were 64 MB, when they got cached in memory using the Tungsten binary format, they became 49 MB each. The last 58 MB input split became a 44 MB partition in memory:"
   ]
  },
  {
   "cell_type": "markdown",
   "metadata": {},
   "source": [
    "![df in memory](http://curriculum-release.s3-website-us-west-2.amazonaws.com/wiki-book/pageviews/df_in_mem.png)"
   ]
  },
  {
   "cell_type": "markdown",
   "metadata": {},
   "source": [
    "####![Wikipedia + Spark Logo Tiny](http://curriculum-release.s3-website-us-west-2.amazonaws.com/wiki-book/general/wiki_spark_small.png) Q-1) How many rows in the table refer to mobile vs desktop?"
   ]
  },
  {
   "cell_type": "markdown",
   "metadata": {},
   "source": [
    "Use the `filter()` transformation to keep only the rows where the site column is equal to mobile:"
   ]
  },
  {
   "cell_type": "code",
   "execution_count": null,
   "metadata": {
    "collapsed": false
   },
   "outputs": [],
   "source": [
    "pageviews_df.filter(pageviews_df['site'] == 'mobile').count()"
   ]
  },
  {
   "cell_type": "markdown",
   "metadata": {},
   "source": [
    "**Challenge 1.**:\n",
    "\n",
    "Open the Spark UI and answer the following questions:\n",
    "\n",
    " * How much time did the previous job take?\n",
    " * How many stages did is start?\n",
    " * How many bytes were read by the second stage?\n",
    " * How much time did the task in the second stage take to complete?"
   ]
  },
  {
   "cell_type": "code",
   "execution_count": null,
   "metadata": {
    "collapsed": true
   },
   "outputs": [],
   "source": [
    "# TODO\n",
    "# Type your answers here...\n",
    "\n",
    "# Total time taken:\n",
    "# Number of stages started:\n",
    "# Shuffle bytes read in the second stage:\n",
    "# Time taken for the task in the second stage to complete:"
   ]
  },
  {
   "cell_type": "markdown",
   "metadata": {},
   "source": [
    "Expand the Spark Jobs above and notice that even though we added a `filter()` transformation, the Job still requires 2 Stages with 4 tasks in the first Stage and 1 task in the second Stage:"
   ]
  },
  {
   "cell_type": "markdown",
   "metadata": {},
   "source": [
    "![Filter Count Expand](http://curriculum-release.s3-website-us-west-2.amazonaws.com/wiki-book/pageviews/filter_count_expand.png)"
   ]
  },
  {
   "cell_type": "markdown",
   "metadata": {},
   "source": [
    "**Challenge 2:** How many rows refer to desktop?"
   ]
  },
  {
   "cell_type": "code",
   "execution_count": null,
   "metadata": {
    "collapsed": true
   },
   "outputs": [],
   "source": [
    "# TODO\n",
    "# Type your answer here..."
   ]
  },
  {
   "cell_type": "markdown",
   "metadata": {},
   "source": [
    "So, 3.6 million rows refer to the mobile page views and 3.6 million rows refer to desktop page views."
   ]
  },
  {
   "cell_type": "markdown",
   "metadata": {},
   "source": [
    "Let's compare the above `filter()` + `count()` from a Logical Model vs Physical Model perspective.\n",
    "\n",
    "Reading a DataFrame from a Databricks table and running a filter() on it are both lazy operations, so technically no work is done yet:"
   ]
  },
  {
   "cell_type": "markdown",
   "metadata": {},
   "source": [
    "![Logical Model: Filter](http://curriculum-release.s3-website-us-west-2.amazonaws.com/wiki-book/pageviews/filter_lazy.png)"
   ]
  },
  {
   "cell_type": "markdown",
   "metadata": {},
   "source": [
    "However, when you call the count() action, it triggers the read from S3, and the filter() and count() to run:"
   ]
  },
  {
   "cell_type": "markdown",
   "metadata": {},
   "source": [
    "![Logical Model: Filter and Count](http://curriculum-release.s3-website-us-west-2.amazonaws.com/wiki-book/pageviews/filter_count_run.png)"
   ]
  },
  {
   "cell_type": "markdown",
   "metadata": {},
   "source": [
    "The Physical Model looks different. The filter() + count() job kicks off 2 Stages:"
   ]
  },
  {
   "cell_type": "markdown",
   "metadata": {},
   "source": [
    "![Physical Model: Filter and Count](http://curriculum-release.s3-website-us-west-2.amazonaws.com/wiki-book/pageviews/filter_physical_model.png)"
   ]
  },
  {
   "cell_type": "markdown",
   "metadata": {},
   "source": [
    "Each of the four tasks in the 1st Stage are actually doing 4 things:\n",
    "- Read input split from S3\n",
    "- Filter for just mobile or desktop traffic\n",
    "- Do a local aggregation on the input split partition\n",
    "- Write a single record to local SSD with the count # seen in the partition"
   ]
  },
  {
   "cell_type": "markdown",
   "metadata": {},
   "source": [
    "![Pipelining](http://curriculum-release.s3-website-us-west-2.amazonaws.com/wiki-book/pageviews/pipelining.png)"
   ]
  },
  {
   "cell_type": "markdown",
   "metadata": {},
   "source": [
    "####![Spark Logo Tiny](http://curriculum-release.s3-website-us-west-2.amazonaws.com/wiki-book/general/logo_spark_tiny.png) ** SQL Query Plan Visualization & the Catalyst Optimizer**"
   ]
  },
  {
   "cell_type": "markdown",
   "metadata": {},
   "source": [
    "Recall that the last command we just ran above was:"
   ]
  },
  {
   "cell_type": "code",
   "execution_count": null,
   "metadata": {
    "collapsed": true
   },
   "outputs": [],
   "source": [
    "# pageviews_df.filter(pageviews_df['site'] == 'desktop').count()"
   ]
  },
  {
   "cell_type": "markdown",
   "metadata": {},
   "source": [
    "To see the SQL Query Plan for the `filter()` + `count()` query, click on the SQL tab in the Spark UI:"
   ]
  },
  {
   "cell_type": "markdown",
   "metadata": {},
   "source": [
    "![SQL viz](http://curriculum-release.s3-website-us-west-2.amazonaws.com/wiki-book/pageviews/sql_viz.png)"
   ]
  },
  {
   "cell_type": "markdown",
   "metadata": {},
   "source": [
    "In the diagram above, you can see that 7.2 million records are read from memory (green) to create the DataFrame, then filtered for just desktop (or mobile) traffic. The 3.6 million rows that pass the filter are projected out to an aggregator, which outputs 4 records to the Shuffle.\n",
    "\n",
    "Everything above the TungstenExchange shuffle (in purple) is part of the 1st Stage. After the shuffle, in the 2nd stage, an aggregation is done on 4 input rows to emit 1 output row."
   ]
  },
  {
   "cell_type": "markdown",
   "metadata": {},
   "source": [
    "You can expand the \"Details\" in the SQL visualization UI to see the logical and physical plans:"
   ]
  },
  {
   "cell_type": "markdown",
   "metadata": {},
   "source": [
    "![SQL details](http://curriculum-release.s3-website-us-west-2.amazonaws.com/wiki-book/pageviews/sql_details.png)"
   ]
  },
  {
   "cell_type": "markdown",
   "metadata": {},
   "source": [
    "At the core of Spark SQL is the Catalyst optimizer, which all DataFrame, SQL and Dataset queries flow through to generate a physical plan that gets executed using RDDs:"
   ]
  },
  {
   "cell_type": "markdown",
   "metadata": {},
   "source": [
    "![Catalyst Optimizer](http://curriculum-release.s3-website-us-west-2.amazonaws.com/wiki-book/pageviews/catalyst.png)"
   ]
  },
  {
   "cell_type": "markdown",
   "metadata": {},
   "source": [
    "Catalyst is one of the newest and most technically involved components of Spark. It leverages advanced programming language features (e.g. Scala?s pattern matching and quasiquotes) in a novel way to build an extensible query optimizer.\n",
    "\n",
    "The main data type in Catalyst is a tree composed of zero or more child node objects. Trees can be manipulated using rules (functions that turn a tree into a new tree). You can read more about how Catalyst works in this Databricks blog post: <a href=\"https://databricks.com/blog/2015/04/13/deep-dive-into-spark-sqls-catalyst-optimizer.html\" target=\"_blank\">April 2015: Deep Dive into Spark SQL?s Catalyst Optimizer</a>"
   ]
  },
  {
   "cell_type": "markdown",
   "metadata": {},
   "source": [
    "**You can always check the logical and phisical plans of how Spark will calculate a DataFrame in the notebook, too**:"
   ]
  },
  {
   "cell_type": "code",
   "execution_count": null,
   "metadata": {
    "collapsed": false
   },
   "outputs": [],
   "source": [
    "pageviews_df.filter(pageviews_df[\"site\"] == \"desktop\").explain(True)"
   ]
  },
  {
   "cell_type": "markdown",
   "metadata": {},
   "source": [
    "####![Spark Logo Tiny](http://curriculum-release.s3-website-us-west-2.amazonaws.com/wiki-book/general/logo_spark_tiny.png) **Memory persistence and Shuffle Partitions **"
   ]
  },
  {
   "cell_type": "markdown",
   "metadata": {},
   "source": [
    "Recall from the first notebook that your Spark local mode cluster is running with 3 slots:"
   ]
  },
  {
   "cell_type": "markdown",
   "metadata": {},
   "source": [
    "![Notebook + Micro Cluster](http://curriculum-release.s3-website-us-west-2.amazonaws.com/wiki-book/book_intro/notebook_microcluster.png)"
   ]
  },
  {
   "cell_type": "markdown",
   "metadata": {},
   "source": [
    "For best performance, we should cache DataFrames into memory with a number of partitions that is a multiple of the number of slots (3 or 6 or 9, etc).\n",
    "\n",
    "For example, here is a DataFrame in memory (orange) with 3 partitions:"
   ]
  },
  {
   "cell_type": "markdown",
   "metadata": {},
   "source": [
    "![Arch 3 slots](http://curriculum-release.s3-website-us-west-2.amazonaws.com/wiki-book/pageviews/arch_3slots.png)"
   ]
  },
  {
   "cell_type": "markdown",
   "metadata": {},
   "source": [
    "When running transformations on the DataFrame, all 3 partitions can be analyzed in parallel:"
   ]
  },
  {
   "cell_type": "markdown",
   "metadata": {},
   "source": [
    "![Arch 3 tasks](http://curriculum-release.s3-website-us-west-2.amazonaws.com/wiki-book/pageviews/arch_3tasks.png)"
   ]
  },
  {
   "cell_type": "markdown",
   "metadata": {},
   "source": [
    "Three seems to be a more ideal number of partitions than four.\n",
    "\n",
    "First, unpersist the original base DataFrame, `pageviewsDF`. Then re-read the 255 MB file from S3, order it by the timestamp column, and re-cache it with 3 partitions:"
   ]
  },
  {
   "cell_type": "code",
   "execution_count": null,
   "metadata": {
    "collapsed": false
   },
   "outputs": [],
   "source": [
    "pageviews_df.unpersist()"
   ]
  },
  {
   "cell_type": "markdown",
   "metadata": {},
   "source": [
    "The Storage UI will now be empty:"
   ]
  },
  {
   "cell_type": "markdown",
   "metadata": {},
   "source": [
    "![Storage UI empty](http://curriculum-release.s3-website-us-west-2.amazonaws.com/wiki-book/pageviews/storage_empty.png)"
   ]
  },
  {
   "cell_type": "markdown",
   "metadata": {},
   "source": [
    "**Challenge 2:** Reload the table from HDFS, order it by the timestamp and site column (like above) and cache it:\n",
    "\n",
    "Hint: Name the new DataFrame `pageviews_ordered_df`"
   ]
  },
  {
   "cell_type": "code",
   "execution_count": null,
   "metadata": {
    "collapsed": true
   },
   "outputs": [],
   "source": [
    "# TODO\n",
    "# Type your answer here..."
   ]
  },
  {
   "cell_type": "code",
   "execution_count": null,
   "metadata": {
    "collapsed": false
   },
   "outputs": [],
   "source": [
    "# Materialize the cache\n",
    "pageviews_ordered_df.count()"
   ]
  },
  {
   "cell_type": "markdown",
   "metadata": {},
   "source": [
    "How many partitions are in the new DataFrame?"
   ]
  },
  {
   "cell_type": "code",
   "execution_count": null,
   "metadata": {
    "collapsed": true
   },
   "outputs": [],
   "source": [
    "pageviews_ordered_df.rdd.getNumPartitions()"
   ]
  },
  {
   "cell_type": "markdown",
   "metadata": {},
   "source": [
    "#### **200 Partitions!**"
   ]
  },
  {
   "cell_type": "markdown",
   "metadata": {},
   "source": [
    "What could have happened? Expand the Job details in the `count()` command above by clicking the two down arrows:"
   ]
  },
  {
   "cell_type": "markdown",
   "metadata": {},
   "source": [
    "![200 tasks](http://curriculum-release.s3-website-us-west-2.amazonaws.com/wiki-book/pageviews/200tasks.png)"
   ]
  },
  {
   "cell_type": "markdown",
   "metadata": {},
   "source": [
    "The first stage (Stage 17 above) is reading the 4 input splits from S3. The next Stage seems to be using 200 tasks to do the `orderBy()` transformation (in purple). This is when the DataFrame is being snapshotted and cached into memory. The final stage (Stage 19 above) is doing the final aggregation for the count."
   ]
  },
  {
   "cell_type": "markdown",
   "metadata": {},
   "source": [
    "By clicking on the Jobs tab in the Spark UI and then clicking into the details for the last job, you can see the same 3 stages:"
   ]
  },
  {
   "cell_type": "markdown",
   "metadata": {},
   "source": [
    "![3stages_200partitions.png](http://curriculum-release.s3-website-us-west-2.amazonaws.com/wiki-book/pageviews/3stages_200partitions.png)"
   ]
  },
  {
   "cell_type": "markdown",
   "metadata": {},
   "source": [
    "Notice that the first stage read 250 MB of input data (in green) and wrote 110 MB of shuffle data (in purple).\n",
    "\n",
    "The second stage read the 110 MB of shuffle data from the earlier stage and wrote 8.2 KB of shuffle data (in orange).\n",
    "\n",
    "The third stage read the 8.2 KB of shuffle data from the middle stage."
   ]
  },
  {
   "cell_type": "markdown",
   "metadata": {},
   "source": [
    "The trick to understanding what's going on lies in the following Spark SQL configuration option."
   ]
  },
  {
   "cell_type": "code",
   "execution_count": null,
   "metadata": {
    "collapsed": false
   },
   "outputs": [],
   "source": [
    "spark.conf.get(\"spark.sql.shuffle.partitions\")"
   ]
  },
  {
   "cell_type": "markdown",
   "metadata": {},
   "source": [
    "The option is set to 200. This configures the number of partitions to use when shuffling data for joins or aggregations.\n",
    "\n",
    "We can change this value programmatically. What should be change it to? Some small multiple of the number of available threads in our cluster is a good starting point. Since we're using a local mode cluster, we can easily see how many threads we have."
   ]
  },
  {
   "cell_type": "code",
   "execution_count": null,
   "metadata": {
    "collapsed": false
   },
   "outputs": [],
   "source": [
    "spark.conf.get(\"spark.master\")"
   ]
  },
  {
   "cell_type": "markdown",
   "metadata": {},
   "source": [
    "Let's start with a multiple of 1, so we'll set the number of shuffle partitions to 8."
   ]
  },
  {
   "cell_type": "code",
   "execution_count": null,
   "metadata": {
    "collapsed": true
   },
   "outputs": [],
   "source": [
    "spark.conf.set(\"spark.sql.shuffle.partitions\", \"8\")"
   ]
  },
  {
   "cell_type": "markdown",
   "metadata": {},
   "source": [
    "Verify the change:"
   ]
  },
  {
   "cell_type": "code",
   "execution_count": null,
   "metadata": {
    "collapsed": false
   },
   "outputs": [],
   "source": [
    "spark.conf.get(\"spark.sql.shuffle.partitions\")"
   ]
  },
  {
   "cell_type": "markdown",
   "metadata": {},
   "source": [
    "Unpersist the DataFrame and re-run the read/orderBy/cache/count to store the DataFrame in memory with 3 partitions:"
   ]
  },
  {
   "cell_type": "code",
   "execution_count": null,
   "metadata": {
    "collapsed": true
   },
   "outputs": [],
   "source": [
    "pageviews_ordered_df.unpersist()"
   ]
  },
  {
   "cell_type": "code",
   "execution_count": null,
   "metadata": {
    "collapsed": false
   },
   "outputs": [],
   "source": [
    "pageviews_ordered_df = (\n",
    "  spark\n",
    "    .read\n",
    "    .table(\"pageviews_by_second\")\n",
    "    .orderBy(pageviews_ordered_df['timestamp'], pageviews_ordered_df['site'].desc())\n",
    "    .cache()\n",
    ")"
   ]
  },
  {
   "cell_type": "code",
   "execution_count": null,
   "metadata": {
    "collapsed": true
   },
   "outputs": [],
   "source": [
    "pageviews_ordered_df.count()"
   ]
  },
  {
   "cell_type": "markdown",
   "metadata": {},
   "source": [
    "Expand the Spark Jobs and Job # details in the cell above and note that this time the middle stage only used 3 tasks:"
   ]
  },
  {
   "cell_type": "markdown",
   "metadata": {},
   "source": [
    "![Middle Stage, 3 Tasks](http://curriculum-release.s3-website-us-west-2.amazonaws.com/wiki-book/pageviews/middlestage_3tasks.png)"
   ]
  },
  {
   "cell_type": "markdown",
   "metadata": {},
   "source": [
    "Check the size of the DataFrame now:"
   ]
  },
  {
   "cell_type": "code",
   "execution_count": null,
   "metadata": {
    "collapsed": true
   },
   "outputs": [],
   "source": [
    "pageviews_ordered_df.rdd.getNumPartitions()"
   ]
  },
  {
   "cell_type": "markdown",
   "metadata": {},
   "source": [
    "If you drill into the details of the Spark UI's Storage tab and click on the RDD name, you will now see the DataFrame in memory with 3 partitions:"
   ]
  },
  {
   "cell_type": "markdown",
   "metadata": {},
   "source": [
    "![Storage UI, 3 tasks](http://curriculum-release.s3-website-us-west-2.amazonaws.com/wiki-book/pageviews/storage_3partitions.png)"
   ]
  },
  {
   "cell_type": "markdown",
   "metadata": {},
   "source": [
    "You can learn more about the different configuration options in Spark SQL in the <a href=\"https://spark.apache.org/docs/latest/sql-programming-guide.html#other-configuration-options\" target=\"_blank\">Apache Spark Docs</a>."
   ]
  }
 ],
 "metadata": {
  "anaconda-cloud": {},
  "kernelspec": {
   "display_name": "Python [Root]",
   "language": "python",
   "name": "Python [Root]"
  },
  "language_info": {
   "codemirror_mode": {
    "name": "ipython",
    "version": 3
   },
   "file_extension": ".py",
   "mimetype": "text/x-python",
   "name": "python",
   "nbconvert_exporter": "python",
   "pygments_lexer": "ipython3",
   "version": "3.5.2"
  },
  "name": "02-DE-Pageviews_student",
  "notebookId": 800705
 },
 "nbformat": 4,
 "nbformat_minor": 0
}
