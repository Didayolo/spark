{
 "metadata": {
  "name": "",
  "signature": "sha256:80850bed271e59a3c60b6ab8a66801b7fbbf7df4e7f9ddb9219abcd39f1c8b39"
 },
 "nbformat": 3,
 "nbformat_minor": 0,
 "worksheets": [
  {
   "cells": [
    {
     "cell_type": "code",
     "collapsed": false,
     "input": [
      "#!/usr/bin/env python\n",
      "# -*- coding: utf-8 -*-\n",
      "\n",
      "import matplotlib.pyplot as plt\n",
      "\n",
      "plt.grid(True)\n",
      "plt.plot([2,4,8], [2.33,4.18,695.35], \"r\", linewidth=0.8, marker=\"+\", label=\"Produit cartesien\")\n",
      "plt.plot([4,5,6,7,8,9,10,11,12,13,14,15,16], [0.155,0.168,0.174,0.175,0.178,0.279,0.665,2.362,9.72,35.214,140.018,562.658,2255.775], \"b\", linewidth=0.8, marker=\"+\", label=\"Approche A\")\n",
      "plt.plot([4,5,6,7,8,9,10,11,12,13,14,15,16], [0.10,0.115,0.144,0.152,0.165,0.225,0.474,1.37,4.97,19.407,79.117,307.068,1236.232], \"g\", linewidth=0.8, marker=\"+\", label=\"Approche D\")\n",
      "plt.axis([0, 20, 0, 3000])\n",
      "plt.xlabel('n')\n",
      "plt.ylabel('Temps (secondes)')\n",
      "plt.legend()    \n",
      "plt.show()\n"
     ],
     "language": "python",
     "metadata": {},
     "outputs": []
    },
    {
     "cell_type": "code",
     "collapsed": false,
     "input": [],
     "language": "python",
     "metadata": {},
     "outputs": []
    }
   ],
   "metadata": {}
  }
 ]
}