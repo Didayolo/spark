{
 "metadata": {
  "name": "",
  "signature": "sha256:a56543ec2b2e6f6da5a0b9f2d143b379660dff04673220a5893a1af979d1794d"
 },
 "nbformat": 3,
 "nbformat_minor": 0,
 "worksheets": [
  {
   "cells": [
    {
     "cell_type": "code",
     "collapsed": false,
     "input": [
      "#!/usr/bin/env python\n",
      "# -*- coding: utf-8 -*-\n",
      "\n",
      "import matplotlib.pyplot as plt\n",
      "\n",
      "plt.grid(True)\n",
      "plt.plot([4,6,8,10,12,14,16], [0.32,0.353,0.382,0.429,1.073,8.6,135.07], \"r\", linewidth=0.8, marker=\"+\", label=\"Produit cartesien\")\n",
      "plt.axis([0, 20, 0, 200])\n",
      "plt.xlabel('n')\n",
      "plt.ylabel('Temps (secondes)')\n",
      "plt.legend()    \n",
      "plt.show()\n"
     ],
     "language": "python",
     "metadata": {},
     "outputs": [],
     "prompt_number": 2
    },
    {
     "cell_type": "code",
     "collapsed": false,
     "input": [],
     "language": "python",
     "metadata": {},
     "outputs": []
    }
   ],
   "metadata": {}
  }
 ]
}