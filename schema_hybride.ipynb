{
 "metadata": {
  "name": "",
  "signature": "sha256:c348057d95c489249ecaaca11871724009ca60888be2ce9748e27f8bacd9e8e4"
 },
 "nbformat": 3,
 "nbformat_minor": 0,
 "worksheets": [
  {
   "cells": [
    {
     "cell_type": "code",
     "collapsed": false,
     "input": [
      "#!/usr/bin/env python\n",
      "# -*- coding: utf-8 -*-\n",
      "\n",
      "import matplotlib.pyplot as plt\n",
      "import numpy as np\n",
      "\n",
      "x=np.linspace(0,12,10)\n",
      "\n",
      "plt.plot(x, x*4, \"b\", linewidth=0.8, label=\"Version optimisee\")\n",
      "plt.plot(x, x**2, \"r\", linewidth=0.8, label=\"Version naive\")\n",
      "plt.axis([0, 12, 0, 110])\n",
      "plt.xlabel('Taille des donnees')\n",
      "plt.ylabel('Complexite')\n",
      "plt.legend()    \n",
      "plt.show()\n"
     ],
     "language": "python",
     "metadata": {},
     "outputs": [],
     "prompt_number": 26
    },
    {
     "cell_type": "code",
     "collapsed": false,
     "input": [],
     "language": "python",
     "metadata": {},
     "outputs": []
    }
   ],
   "metadata": {}
  }
 ]
}