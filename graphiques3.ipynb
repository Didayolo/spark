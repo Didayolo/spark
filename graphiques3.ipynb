{
 "metadata": {
  "name": "",
  "signature": "sha256:e433f601e5f38b77fc174ebe8ded36873c2bff47322257fda75a016f637140d9"
 },
 "nbformat": 3,
 "nbformat_minor": 0,
 "worksheets": [
  {
   "cells": [
    {
     "cell_type": "code",
     "collapsed": false,
     "input": [
      "#!/usr/bin/env python\n",
      "# -*- coding: utf-8 -*-\n",
      "\n",
      "import matplotlib.pyplot as plt\n",
      "\n",
      "plt.grid(True)\n",
      "plt.plot([4,5,6,7,8,9,10,11,12,13,14,15,16], [0.105,0.112,0.122,0.14,0.142,0.148,0.231,0.337,1.28,3.38,13.299, 51.546, 200.726], \"b\", linewidth=0.8, marker=\"+\", label=\"Approche D (flat)\")\n",
      "plt.plot([4,5,6,7,8,9,10,11,12,13,14,15,16], [0.10,0.115,0.144,0.152,0.165,0.225,0.474,1.37,4.97,19.407,79.117,307.068,1236.232], \"r\", linewidth=0.8, marker=\"+\", label=\"Approche D\")\n",
      "plt.axis([0, 17, 0, 1400])\n",
      "plt.xlabel('n')\n",
      "plt.ylabel('Temps (secondes)')\n",
      "plt.legend(loc=2)    \n",
      "plt.show()"
     ],
     "language": "python",
     "metadata": {},
     "outputs": [],
     "prompt_number": 7
    },
    {
     "cell_type": "code",
     "collapsed": false,
     "input": [],
     "language": "python",
     "metadata": {},
     "outputs": []
    }
   ],
   "metadata": {}
  }
 ]
}