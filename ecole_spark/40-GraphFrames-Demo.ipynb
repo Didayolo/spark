{
 "cells": [
  {
   "cell_type": "markdown",
   "metadata": {},
   "source": [
    "# GraphFrames Demonstration"
   ]
  },
  {
   "cell_type": "markdown",
   "metadata": {},
   "source": [
    "## What is GraphFrames?\n",
    "\n",
    "[GraphFrames](http://graphframes.github.io/user-guide.html) is a DataFrame-based API that allows you to analyze graph data (social graphs, network graphs, property graphs, etc.), using the power of the Spark\n",
    "cluster. It is the successor to the RDD-based [GraphX](http://spark.apache.org/docs/latest/graphx-programming-guide.html) API. For an introduction to GraphFrames, see [this blog post](https://databricks.com/blog/2016/03/03/introducing-graphframes.html).\n",
    "\n",
    "This notebook contains a simple demonstration of just one small part of the GraphFrames API. Hopefully, it'll whet your appetite.\n",
    "\n",
    "**NOTE**: Please use a Spark 2.0 cluster to run this notebook."
   ]
  },
  {
   "cell_type": "markdown",
   "metadata": {},
   "source": [
    "An RDD-based GraphX demonstration conceptually similar to this demo, with a detailed explanation, can be found here: <http://ampcamp.berkeley.edu/big-data-mini-course/graph-analytics-with-graphx.html>. This version is based on the new GraphFrames API."
   ]
  },
  {
   "cell_type": "markdown",
   "metadata": {},
   "source": [
    "The following example creates a _property graph_. A property graph is a _directed_ graph: Each node, or _vertex_, in the graph \"points\" at another vertex, and the edge represents the relationship between the first node and the second node.\n",
    "\n",
    "The image, at the right, shows an example of a property graph. In that example, a portion of a fictitious dating site, there are four people (the vertices), connected by edges that have the following meanings:\n",
    "\n",
    "* Valentino likes Angelica; he rated her 9 stars.\n",
    "* Angelica also gave Valentino 9 stars.\n",
    "* Mercedes gave Valentino 8 stars.\n",
    "* Anthony doesn't really like Angelica at all; he gave her 0 zeros.\n",
    "\n",
    "<img src=\"http://i.imgur.com/P8wyWCZ.png\" alt=\"Property Graph Example\" style=\"float: right\"/>\n",
    "\n",
    "Let's expand on this World's Most Unpopular Dating Site just a little, for our example."
   ]
  },
  {
   "cell_type": "markdown",
   "metadata": {},
   "source": [
    "## Constructing our graph"
   ]
  },
  {
   "cell_type": "code",
   "execution_count": null,
   "metadata": {
    "collapsed": true
   },
   "outputs": [],
   "source": [
    "from graphframes import *\n",
    "from pyspark.sql import *\n",
    "from pyspark.sql.functions import *\n",
    "\n",
    "# These are the people. They will become the vertices. Each person record\n",
    "# has three fields.\n",
    "#\n",
    "# - a unique numeric ID\n",
    "# - a name\n",
    "# - an age\n",
    "people = [\n",
    "  (1, \"Angelica\", 23),\n",
    "  (2, \"Valentino\", 31),\n",
    "  (3, \"Mercedes\", 52),\n",
    "  (4, \"Anthony\", 39),\n",
    "  (5, \"Roberto\", 45),\n",
    "  (6, \"Julia\", 34)\n",
    "]\n",
    "\n",
    "# This map makes the edge code easier to read.\n",
    "name_to_id = dict([(name, id) for id, name, age in people])\n",
    "\n",
    "# The vertices are the people.\n",
    "#\n",
    "# NOTE: Prior to Spark 2.0, you need to use:\n",
    "# vertices = sqlContext.createDataFrame(people).toDF(\"id\", \"name\", \"age\")\n",
    "vertices = spark.createDataFrame(people).toDF(\"id\", \"name\", \"age\")\n",
    "\n",
    "# The edges connect the people, and each edge contains the rating that person 1 gave person 2 (0 to 10).\n",
    "# The edges use the IDs to identify the vertices.\n",
    "edges = sqlContext.createDataFrame(\n",
    "  [\n",
    "    # First Person by Index >> related somehow to Second Person by Index, with Attribute Value (which is contextual)\n",
    "    (name_to_id[\"Valentino\"], name_to_id[\"Angelica\"],  9), # Valentino likes Angela, giving her a 9-star rating.\n",
    "    (name_to_id[\"Valentino\"], name_to_id[\"Julia\"],     2),\n",
    "    (name_to_id[\"Mercedes\"],  name_to_id[\"Valentino\"], 8),\n",
    "    (name_to_id[\"Mercedes\"],  name_to_id[\"Roberto\"],   3),\n",
    "    (name_to_id[\"Anthony\"],   name_to_id[\"Angelica\"],  0),\n",
    "    (name_to_id[\"Roberto\"],   name_to_id[\"Mercedes\"],  5),\n",
    "    (name_to_id[\"Roberto\"],   name_to_id[\"Angelica\"],  7),\n",
    "    (name_to_id[\"Angelica\"],  name_to_id[\"Valentino\"], 9),\n",
    "    (name_to_id[\"Anthony\"],   name_to_id[\"Mercedes\"],  1),\n",
    "    (name_to_id[\"Julia\"],     name_to_id[\"Anthony\"],   8),\n",
    "    (name_to_id[\"Anthony\"],   name_to_id[\"Julia\"],    10)\n",
    "\n",
    "  ]\n",
    ").toDF(\"src\", \"dst\", \"stars\")\n",
    "\n",
    "# The graph is the combination of the vertices and the edges.\n",
    "g = GraphFrame(vertices, edges)"
   ]
  },
  {
   "cell_type": "code",
   "execution_count": null,
   "metadata": {
    "collapsed": false
   },
   "outputs": [],
   "source": [
    "g.vertices"
   ]
  },
  {
   "cell_type": "code",
   "execution_count": null,
   "metadata": {
    "collapsed": false
   },
   "outputs": [],
   "source": [
    "g.edges"
   ]
  },
  {
   "cell_type": "markdown",
   "metadata": {},
   "source": [
    "Let's look at the incoming degree of each vertex, which is the number of edges coming _into_ each node (i.e., the number of people who have rated a particular person)"
   ]
  },
  {
   "cell_type": "code",
   "execution_count": null,
   "metadata": {
    "collapsed": false
   },
   "outputs": [],
   "source": [
    "g.inDegrees.show()"
   ]
  },
  {
   "cell_type": "markdown",
   "metadata": {},
   "source": [
    "We can make that more readable."
   ]
  },
  {
   "cell_type": "code",
   "execution_count": null,
   "metadata": {
    "collapsed": false
   },
   "outputs": [],
   "source": [
    "in_degrees = g.inDegrees\n",
    "joined = in_degrees.join(vertices, in_degrees['id'] == vertices['id'])\n",
    "joined.select(joined['name'], joined['inDegree'].alias('number of ratings')).show()"
   ]
  },
  {
   "cell_type": "markdown",
   "metadata": {},
   "source": [
    "Let's do the same with out degrees, i.e., the number of ratings each person has made."
   ]
  },
  {
   "cell_type": "code",
   "execution_count": null,
   "metadata": {
    "collapsed": false
   },
   "outputs": [],
   "source": [
    "out_degrees = g.outDegrees\n",
    "joined = out_degrees.join(vertices, out_degrees['id'] == vertices['id'])\n",
    "joined.select(joined['name'], joined['outDegree'].alias('number of ratings')).show()"
   ]
  },
  {
   "cell_type": "markdown",
   "metadata": {},
   "source": [
    "`degrees` is just the sum of the input and output degrees for each vertex. Or, to put it another way, it's the number of times each person's ID appears as a vertex."
   ]
  },
  {
   "cell_type": "code",
   "execution_count": null,
   "metadata": {
    "collapsed": false
   },
   "outputs": [],
   "source": [
    "degrees = g.degrees\n",
    "joined = degrees.join(vertices, degrees['id'] == vertices['id'])\n",
    "joined.select(joined['name'], joined['degree'].alias('number of ratings')).show()"
   ]
  },
  {
   "cell_type": "markdown",
   "metadata": {},
   "source": [
    "## Who likes whom?\n",
    "\n",
    "We can visually scan the output to find people who really like each other, but only because the graph is so small. In a larger graph, that would be tedious. So, let's see if we can find a way to process the graph programmatically to find people really like each other. We'll define \"really like\" as two people who have rated each with 8 or more stars.\n",
    "\n",
    "We want to find sets of two people, each of whom rated the other at least 8. [GraphFrame motif finding](http://graphframes.github.io/user-guide.html#motif-finding) can help here. GraphFrame\n",
    "motif finding uses a simple string-based Domain-Specific Language (DSL) to express structural queries. For instance, the expression `\"(a)-[e]->(b); (b)-[e2]->(a)\"` will search for pairs of vertices,\n",
    "`a` and `b`, that are connected by edges in both directions. As it happens, this is _exactly_ what we want."
   ]
  },
  {
   "cell_type": "code",
   "execution_count": null,
   "metadata": {
    "collapsed": false
   },
   "outputs": [],
   "source": [
    "pairs = g.find(\"(a)-[ab]->(b); (b)-[ba]->(a)\")\n",
    "match_ups = pairs.filter((pairs['ab.stars'] > 7) & (pairs['ba.stars'] > 7))\n",
    "match_ups.show()"
   ]
  },
  {
   "cell_type": "markdown",
   "metadata": {},
   "source": [
    "In that output, we can see, for instance, that Valentino likes Angelica (one row) and Angelica like Valentino (another row). Can we collapse that output down to simple rows of matched pairs?\n",
    "\n",
    "We can, using a little DataFrame manipulation.\n",
    "\n",
    "* Use the `array()` function from `org.apache.spark.sql.functions` to pull the two name columns together into a single array column.\n",
    "* Use the `sort_array()` function to sort that array column. Thus, the two rows with `[Valentino, Angelica]`, `[Angelica, Valentino]`, will both end up having the value `[Angelica, Valentino]`.\n",
    "* Use `distinct` to sort remove the duplicate rows. That way, we don't end up with two `[Angelica <-> Valentino]` entries.\n",
    "\n",
    "All three operations can be performed in one statement, but we'll do each step separately, so we can see the transformations."
   ]
  },
  {
   "cell_type": "code",
   "execution_count": null,
   "metadata": {
    "collapsed": false
   },
   "outputs": [],
   "source": [
    "df1 = match_ups.select(array(match_ups['a.name'], match_ups['b.name']).alias('names'))\n",
    "df1.show(truncate = False)"
   ]
  },
  {
   "cell_type": "code",
   "execution_count": null,
   "metadata": {
    "collapsed": false
   },
   "outputs": [],
   "source": [
    "df2 = df1.select(sort_array(df1['names']).alias('names'))\n",
    "df2.show(truncate = False)"
   ]
  },
  {
   "cell_type": "code",
   "execution_count": null,
   "metadata": {
    "collapsed": false
   },
   "outputs": [],
   "source": [
    "final_matchups = df2.distinct()\n",
    "final_matchups.show(truncate = False)"
   ]
  },
  {
   "cell_type": "markdown",
   "metadata": {},
   "source": [
    "Finally, let's pull the matches back to the driver and print them nicely."
   ]
  },
  {
   "cell_type": "code",
   "execution_count": null,
   "metadata": {
    "collapsed": false
   },
   "outputs": [],
   "source": [
    "for n1, n2 in [row.names for row in final_matchups.collect()]:\n",
    "  print(\"{0} and {1} really like each other.\".format(n1, n2))"
   ]
  },
  {
   "cell_type": "code",
   "execution_count": null,
   "metadata": {
    "collapsed": true
   },
   "outputs": [],
   "source": []
  }
 ],
 "metadata": {
  "kernelspec": {
   "display_name": "Python [Root]",
   "language": "python",
   "name": "Python [Root]"
  },
  "language_info": {
   "codemirror_mode": {
    "name": "ipython",
    "version": 3
   },
   "file_extension": ".py",
   "mimetype": "text/x-python",
   "name": "python",
   "nbconvert_exporter": "python",
   "pygments_lexer": "ipython3",
   "version": "3.5.2"
  },
  "name": "GraphFrames-Demo_student",
  "notebookId": 800604
 },
 "nbformat": 4,
 "nbformat_minor": 0
}
