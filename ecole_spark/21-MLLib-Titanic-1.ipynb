{
 "cells": [
  {
   "cell_type": "markdown",
   "metadata": {},
   "source": [
    "## In which we explore Disasters, Trees, Classification & the Kaggle Competition"
   ]
  },
  {
   "cell_type": "markdown",
   "metadata": {},
   "source": [
    "1. Read Titanic Data\n",
    "2. Transform and select features\n",
    "3. Create a simple model & Predict\n",
    "5. Decision Tree Model, Predict\n",
    "6. Random Forest Model, Predict\n",
    "7. Discussion"
   ]
  },
  {
   "cell_type": "markdown",
   "metadata": {},
   "source": [
    "Read Titanic Data\n",
    "-----\n",
    "### The Data is part of the Kaggle Competition \"Titanic: Machine Learning from Disaster\"\n",
    "### Download data from http://www.kaggle.com/c/titanic-gettingStarted"
   ]
  },
  {
   "cell_type": "code",
   "execution_count": null,
   "metadata": {
    "collapsed": false
   },
   "outputs": [],
   "source": [
    "titanic = spark.read.option(\"header\", True).csv(\"/data/training/titanic/train.csv\")\n",
    "titanic.createOrReplaceTempView(\"titanic\")"
   ]
  },
  {
   "cell_type": "code",
   "execution_count": null,
   "metadata": {
    "collapsed": false
   },
   "outputs": [],
   "source": [
    "spark.sql(\"SELECT * from titanic LIMIT 10\").show()"
   ]
  },
  {
   "cell_type": "markdown",
   "metadata": {},
   "source": [
    "## Question : How do we transform the data to something that we can use with Spark MLlib ?"
   ]
  },
  {
   "cell_type": "code",
   "execution_count": null,
   "metadata": {
    "collapsed": false
   },
   "outputs": [],
   "source": [
    "from pyspark.mllib.regression import LabeledPoint\n",
    "def num(s):\n",
    "    try:\n",
    "        return int(s)\n",
    "    except (ValueError,TypeError):\n",
    "        try:\n",
    "            return float(s)\n",
    "        except (ValueError,TypeError):\n",
    "            return 0\n",
    "#\n",
    "def parse_train_data(x):\n",
    "    pass_id = x[0]\n",
    "    survived = num(x[1])\n",
    "    pclass = num(x[2])\n",
    "    # sex\n",
    "    sex=0\n",
    "    if x[4]=='male':\n",
    "        sex = 1\n",
    "    age=0\n",
    "    age = num(x[5])\n",
    "    sibsp = 0\n",
    "    sibsp = num(x[6])\n",
    "    parch = 0\n",
    "    parch = num(x[7])\n",
    "    fare = 0\n",
    "    fare = num(x[9])\n",
    "    cabin = x[10] # not now, categorical\n",
    "    # return labelled point\n",
    "    return LabeledPoint(survived,[pclass,sex,age,sibsp,parch,fare]) "
   ]
  },
  {
   "cell_type": "code",
   "execution_count": null,
   "metadata": {
    "collapsed": false
   },
   "outputs": [],
   "source": [
    "df_train = spark.table(\"titanic\").rdd.map(lambda row: parse_train_data(row))"
   ]
  },
  {
   "cell_type": "code",
   "execution_count": null,
   "metadata": {
    "collapsed": false
   },
   "outputs": [],
   "source": [
    "df_train.count()"
   ]
  },
  {
   "cell_type": "code",
   "execution_count": null,
   "metadata": {
    "collapsed": false
   },
   "outputs": [],
   "source": [
    "df_train.take(3)"
   ]
  },
  {
   "cell_type": "code",
   "execution_count": null,
   "metadata": {
    "collapsed": false
   },
   "outputs": [],
   "source": [
    "for x in df_train.take(3):\n",
    "    print(x)\n",
    "# pclass,sex,age,sibsp,parch,fare,cabin,survived"
   ]
  },
  {
   "cell_type": "markdown",
   "metadata": {},
   "source": [
    "### Dick, The butcher to Jack Cade\n",
    "### Dick: The first thing we do, let's kill all the men.\n",
    "### Cade: Nay, that I mean to do.\n",
    "#### Ref : http://www.enotes.com/shakespeare-quotes/lets-kill-all-lawyers"
   ]
  },
  {
   "cell_type": "code",
   "execution_count": null,
   "metadata": {
    "collapsed": false
   },
   "outputs": [],
   "source": [
    "spark.sql(\"SELECT COUNT(*) FROM titanic\").show()"
   ]
  },
  {
   "cell_type": "code",
   "execution_count": null,
   "metadata": {
    "collapsed": false
   },
   "outputs": [],
   "source": [
    "spark.sql(\"SELECT COUNT(*) FROM titanic WHERE Survived = 1\").show()"
   ]
  },
  {
   "cell_type": "code",
   "execution_count": null,
   "metadata": {
    "collapsed": false
   },
   "outputs": [],
   "source": [
    "spark.sql(\"SELECT COUNT(*) FROM titanic WHERE Survived = 1 AND Sex = 'female'\").show()"
   ]
  },
  {
   "cell_type": "code",
   "execution_count": null,
   "metadata": {
    "collapsed": false
   },
   "outputs": [],
   "source": [
    "print(\"Survived = Female : %5.2f%%\" % (100.0*233/342))"
   ]
  },
  {
   "cell_type": "code",
   "execution_count": null,
   "metadata": {
    "collapsed": false
   },
   "outputs": [],
   "source": [
    "spark.sql(\"SELECT COUNT(*) FROM titanic WHERE Sex = 'female'\").show()"
   ]
  },
  {
   "cell_type": "code",
   "execution_count": null,
   "metadata": {
    "collapsed": false
   },
   "outputs": [],
   "source": [
    "print(\"Female = Survived : %5.2f%%\" % (100.0*233/314))"
   ]
  },
  {
   "cell_type": "markdown",
   "metadata": {},
   "source": [
    "## Strategy #1 : Female = Survived"
   ]
  },
  {
   "cell_type": "markdown",
   "metadata": {},
   "source": [
    "### Read and Predict the test data"
   ]
  },
  {
   "cell_type": "code",
   "execution_count": null,
   "metadata": {
    "collapsed": true
   },
   "outputs": [],
   "source": [
    "#spark.sql(\"DROP TABLE titanic_test\")"
   ]
  },
  {
   "cell_type": "code",
   "execution_count": null,
   "metadata": {
    "collapsed": true
   },
   "outputs": [],
   "source": [
    "titanic_test = spark.read.option(\"header\", True).csv(\"/data/training/titanic/test.csv\")\n",
    "titanic_test.createOrReplaceTempView(\"titanic_test\")"
   ]
  },
  {
   "cell_type": "code",
   "execution_count": null,
   "metadata": {
    "collapsed": false
   },
   "outputs": [],
   "source": [
    "spark.sql(\"SELECT * from titanic_test LIMIT 10\").show()"
   ]
  },
  {
   "cell_type": "code",
   "execution_count": null,
   "metadata": {
    "collapsed": true
   },
   "outputs": [],
   "source": [
    "def parse_solution(x):\n",
    "    pass_id = x[0]\n",
    "    survived = 0\n",
    "    if x[3]=='female':\n",
    "        survived = 1\n",
    "    age=0\n",
    "    # return the solution\n",
    "    return (pass_id,survived) "
   ]
  },
  {
   "cell_type": "code",
   "execution_count": null,
   "metadata": {
    "collapsed": false
   },
   "outputs": [],
   "source": [
    "solution_one = spark.table(\"titanic_test\").rdd.map(lambda row:parse_solution(row))"
   ]
  },
  {
   "cell_type": "code",
   "execution_count": null,
   "metadata": {
    "collapsed": false
   },
   "outputs": [],
   "source": [
    "solution_one.count()"
   ]
  },
  {
   "cell_type": "code",
   "execution_count": null,
   "metadata": {
    "collapsed": false
   },
   "outputs": [],
   "source": [
    "solution_one.take(3)"
   ]
  },
  {
   "cell_type": "code",
   "execution_count": null,
   "metadata": {
    "collapsed": true
   },
   "outputs": [],
   "source": [
    "from pyspark.sql import SQLContext\n",
    "from pyspark.sql.types import *\n",
    "\n",
    "schema = StructType([StructField(\"PassengerId\", StringType(), False),StructField(\"Survived\", IntegerType(), False)])\n",
    "s_df = spark.createDataFrame(solution_one, schema)\n",
    "s_df.createOrReplaceTempView(\"SolutionOne\")"
   ]
  },
  {
   "cell_type": "code",
   "execution_count": null,
   "metadata": {
    "collapsed": false
   },
   "outputs": [],
   "source": [
    "spark.sql(\"SELECT * FROM SolutionOne\").show()"
   ]
  },
  {
   "cell_type": "markdown",
   "metadata": {},
   "source": [
    "## if you were to submit to Kaggle\n",
    "## You'd get a score of ~0.7655 Rank : 1276 Gender Based Model"
   ]
  },
  {
   "cell_type": "code",
   "execution_count": null,
   "metadata": {
    "collapsed": true
   },
   "outputs": [],
   "source": []
  }
 ],
 "metadata": {
  "anaconda-cloud": {},
  "kernelspec": {
   "display_name": "Python [Root]",
   "language": "python",
   "name": "Python [Root]"
  },
  "language_info": {
   "codemirror_mode": {
    "name": "ipython",
    "version": 3
   },
   "file_extension": ".py",
   "mimetype": "text/x-python",
   "name": "python",
   "nbconvert_exporter": "python",
   "pygments_lexer": "ipython3",
   "version": "3.5.2"
  },
  "name": "04_Titanic-1",
  "notebookId": 66104
 },
 "nbformat": 4,
 "nbformat_minor": 0
}
