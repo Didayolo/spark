{
 "cells": [
  {
   "cell_type": "markdown",
   "metadata": {
    "deletable": true,
    "editable": true
   },
   "source": [
    "Titanic Decision Tree Model\n",
    "----------\n",
    "1. Read-in Training Data\n",
    "2. Model Tree\n",
    "3. Predict Training Set\n",
    "4. Calculate MSE\n",
    "5. Calculate Accuracy\n",
    "6. Predict Test Set"
   ]
  },
  {
   "cell_type": "code",
   "execution_count": null,
   "metadata": {
    "collapsed": false,
    "deletable": true,
    "editable": true
   },
   "outputs": [],
   "source": [
    "titanic = spark.read.option(\"header\", True).csv(\"/data/training/titanic/train.csv\")\n",
    "titanic.createOrReplaceTempView(\"titanic\")\n",
    "spark.sql(\"SELECT * from titanic LIMIT 10\").show()"
   ]
  },
  {
   "cell_type": "code",
   "execution_count": null,
   "metadata": {
    "collapsed": true,
    "deletable": true,
    "editable": true
   },
   "outputs": [],
   "source": [
    "from pyspark.mllib.regression import LabeledPoint\n",
    "def num(s):\n",
    "    try:\n",
    "        return int(s)\n",
    "    except (ValueError, TypeError):\n",
    "        try:\n",
    "            return float(s)\n",
    "        except (ValueError, TypeError):\n",
    "            return 0\n",
    "#\n",
    "def parse_train_data(x):\n",
    "    pass_id = x[0]\n",
    "    survived = num(x[1])\n",
    "    pclass = num(x[2])\n",
    "    # sex\n",
    "    sex=0\n",
    "    if x[4]=='male':\n",
    "        sex = 1\n",
    "    age=0\n",
    "    age = num(x[5])\n",
    "    sibsp = 0\n",
    "    sibsp = num(x[6])\n",
    "    parch = 0\n",
    "    parch = num(x[7])\n",
    "    fare = 0\n",
    "    fare = num(x[9])\n",
    "    cabin = x[10] # not now, categorical\n",
    "    # return labelled point\n",
    "    return LabeledPoint(survived,[pclass,sex,age,sibsp,parch,fare]) "
   ]
  },
  {
   "cell_type": "code",
   "execution_count": null,
   "metadata": {
    "collapsed": true,
    "deletable": true,
    "editable": true
   },
   "outputs": [],
   "source": [
    "df_train = spark.table(\"titanic\").rdd.map(lambda row: parse_train_data(row))"
   ]
  },
  {
   "cell_type": "code",
   "execution_count": null,
   "metadata": {
    "collapsed": false,
    "deletable": true,
    "editable": true
   },
   "outputs": [],
   "source": [
    "df_train.count()"
   ]
  },
  {
   "cell_type": "code",
   "execution_count": null,
   "metadata": {
    "collapsed": false,
    "deletable": true,
    "editable": true
   },
   "outputs": [],
   "source": [
    "df_train.take(3)"
   ]
  },
  {
   "cell_type": "markdown",
   "metadata": {
    "deletable": true,
    "editable": true
   },
   "source": [
    "### Routines to separate the labels & features out of a Labelled Point dataset"
   ]
  },
  {
   "cell_type": "code",
   "execution_count": null,
   "metadata": {
    "collapsed": true,
    "deletable": true,
    "editable": true
   },
   "outputs": [],
   "source": [
    "def get_label(x):\n",
    "    return x.label\n",
    "#\n",
    "def get_features(x):\n",
    "    return x.features"
   ]
  },
  {
   "cell_type": "code",
   "execution_count": null,
   "metadata": {
    "collapsed": true,
    "deletable": true,
    "editable": true
   },
   "outputs": [],
   "source": [
    "from numpy import array\n",
    "pass_labels = df_train.map(lambda x: get_label(x))\n",
    "pass_features = df_train.map(lambda x: get_features(x))"
   ]
  },
  {
   "cell_type": "markdown",
   "metadata": {
    "deletable": true,
    "editable": true
   },
   "source": [
    "### Train a DecisionTree Model"
   ]
  },
  {
   "cell_type": "code",
   "execution_count": null,
   "metadata": {
    "collapsed": true,
    "deletable": true,
    "editable": true
   },
   "outputs": [],
   "source": [
    "from pyspark.mllib.tree import DecisionTree\n",
    "model = DecisionTree.trainClassifier(df_train, numClasses=2,categoricalFeaturesInfo={})"
   ]
  },
  {
   "cell_type": "markdown",
   "metadata": {
    "deletable": true,
    "editable": true
   },
   "source": [
    "###Let us see how the model looks"
   ]
  },
  {
   "cell_type": "code",
   "execution_count": null,
   "metadata": {
    "collapsed": false,
    "deletable": true,
    "editable": true
   },
   "outputs": [],
   "source": [
    "print(model)\n",
    "print(model.toDebugString())"
   ]
  },
  {
   "cell_type": "code",
   "execution_count": null,
   "metadata": {
    "collapsed": true,
    "deletable": true,
    "editable": true
   },
   "outputs": [],
   "source": [
    "def get_label(x):\n",
    "    return x.label\n",
    "#\n",
    "def get_features(x):\n",
    "    return x.features"
   ]
  },
  {
   "cell_type": "code",
   "execution_count": null,
   "metadata": {
    "collapsed": false,
    "deletable": true,
    "editable": true
   },
   "outputs": [],
   "source": [
    "print(pass_labels.count())\n",
    "print(pass_features.count())"
   ]
  },
  {
   "cell_type": "markdown",
   "metadata": {
    "deletable": true,
    "editable": true
   },
   "source": [
    "### How good is our model on the training set ?"
   ]
  },
  {
   "cell_type": "markdown",
   "metadata": {
    "deletable": true,
    "editable": true
   },
   "source": [
    "### Predict the training set"
   ]
  },
  {
   "cell_type": "code",
   "execution_count": null,
   "metadata": {
    "collapsed": false,
    "deletable": true,
    "editable": true
   },
   "outputs": [],
   "source": [
    "predictions = model.predict(pass_features)\n",
    "predictions.count()"
   ]
  },
  {
   "cell_type": "markdown",
   "metadata": {
    "deletable": true,
    "editable": true
   },
   "source": [
    "### Zip & calculate MSE"
   ]
  },
  {
   "cell_type": "code",
   "execution_count": null,
   "metadata": {
    "collapsed": true,
    "deletable": true,
    "editable": true
   },
   "outputs": [],
   "source": [
    "labelsAndPredictions = df_train.map(lambda lp: lp.label).zip(model.predict(pass_features))"
   ]
  },
  {
   "cell_type": "code",
   "execution_count": null,
   "metadata": {
    "collapsed": false,
    "deletable": true,
    "editable": true
   },
   "outputs": [],
   "source": [
    "trainMSE = labelsAndPredictions.map(lambda tup : (tup[0] - tup[1])**2).sum() / float(df_train.count())\n",
    "print(trainMSE)"
   ]
  },
  {
   "cell_type": "markdown",
   "metadata": {
    "deletable": true,
    "editable": true
   },
   "source": [
    "## Calculate Accuracy"
   ]
  },
  {
   "cell_type": "code",
   "execution_count": null,
   "metadata": {
    "collapsed": false,
    "deletable": true,
    "editable": true
   },
   "outputs": [],
   "source": [
    "from operator import add\n",
    "seqOp = (lambda acc, x: acc + (x[0] == x[1]))\n",
    "train_correct = labelsAndPredictions.aggregate(0, seqOp, add)\n",
    "accuracy = train_correct / float(df_train.count())\n",
    "print('%2.2f%s' % (accuracy*100,'%'))"
   ]
  },
  {
   "cell_type": "markdown",
   "metadata": {
    "deletable": true,
    "editable": true
   },
   "source": [
    "Time to Visit the Test data & predict using the Model\n",
    "---"
   ]
  },
  {
   "cell_type": "code",
   "execution_count": null,
   "metadata": {
    "collapsed": false,
    "deletable": true,
    "editable": true
   },
   "outputs": [],
   "source": [
    "titanic_test = spark.read.option(\"header\", True).csv(\"/data/training/titanic/test.csv\")\n",
    "titanic_test.createOrReplaceTempView(\"titanic_test\")\n",
    "spark.sql(\"SELECT * from titanic_test LIMIT 10\").show()"
   ]
  },
  {
   "cell_type": "markdown",
   "metadata": {
    "deletable": true,
    "editable": true
   },
   "source": [
    "##Map through a row RDD and return the appropriate features as LabeledPoint"
   ]
  },
  {
   "cell_type": "code",
   "execution_count": null,
   "metadata": {
    "collapsed": true,
    "deletable": true,
    "editable": true
   },
   "outputs": [],
   "source": [
    "from pyspark.mllib.regression import LabeledPoint\n",
    "def num(s):\n",
    "    try:\n",
    "        return int(s)\n",
    "    except (ValueError, TypeError):\n",
    "        try:\n",
    "            return float(s)\n",
    "        except (ValueError, TypeError):\n",
    "            return 0\n",
    "#\n",
    "def parse_test_data(x):\n",
    "    pass_id = int(x[0])\n",
    "    pclass = num(x[1])\n",
    "    # sex\n",
    "    sex=0\n",
    "    if x[3]=='male':\n",
    "        sex = 1\n",
    "    age=0\n",
    "    age = num(x[4])\n",
    "    sibsp = 0\n",
    "    sibsp = num(x[5])\n",
    "    parch = 0\n",
    "    parch = num(x[6])\n",
    "    fare = 0\n",
    "    fare = num(x[8])\n",
    "    # return labelled point\n",
    "    return LabeledPoint(pass_id,[pclass,sex,age,sibsp,parch,fare]) \n",
    "    #\n",
    "    # just using labeledPoint to keep the Passenger Id which we need at the end for submission"
   ]
  },
  {
   "cell_type": "markdown",
   "metadata": {
    "deletable": true,
    "editable": true
   },
   "source": [
    "###Parse Test Dataset to LabeledPoint"
   ]
  },
  {
   "cell_type": "code",
   "execution_count": null,
   "metadata": {
    "collapsed": false,
    "deletable": true,
    "editable": true
   },
   "outputs": [],
   "source": [
    "df_test = spark.table(\"titanic_test\").rdd.map(lambda row: parse_test_data(row))"
   ]
  },
  {
   "cell_type": "code",
   "execution_count": null,
   "metadata": {
    "collapsed": false,
    "deletable": true,
    "editable": true
   },
   "outputs": [],
   "source": [
    "df_test.take(1)"
   ]
  },
  {
   "cell_type": "markdown",
   "metadata": {
    "deletable": true,
    "editable": true
   },
   "source": [
    "## Extract the features & Predict using Model"
   ]
  },
  {
   "cell_type": "code",
   "execution_count": null,
   "metadata": {
    "collapsed": true,
    "deletable": true,
    "editable": true
   },
   "outputs": [],
   "source": [
    "test_features = df_test.map(lambda x: get_features(x))\n",
    "test_pred = model.predict(test_features).coalesce(1)"
   ]
  },
  {
   "cell_type": "code",
   "execution_count": null,
   "metadata": {
    "collapsed": false,
    "deletable": true,
    "editable": true
   },
   "outputs": [],
   "source": [
    "test_pred.count()"
   ]
  },
  {
   "cell_type": "code",
   "execution_count": null,
   "metadata": {
    "collapsed": false,
    "deletable": true,
    "editable": true
   },
   "outputs": [],
   "source": [
    "df_test.count()"
   ]
  },
  {
   "cell_type": "code",
   "execution_count": null,
   "metadata": {
    "collapsed": false,
    "deletable": true,
    "editable": true
   },
   "outputs": [],
   "source": [
    "test_pred.take(1)"
   ]
  },
  {
   "cell_type": "code",
   "execution_count": null,
   "metadata": {
    "collapsed": true,
    "deletable": true,
    "editable": true
   },
   "outputs": [],
   "source": [
    "sub_csv = df_test.coalesce(1)\n",
    "sub_csv_1 = sub_csv.map(lambda lp: int(lp.label)).zip(test_pred.map(lambda x: num(x)))\n"
   ]
  },
  {
   "cell_type": "code",
   "execution_count": null,
   "metadata": {
    "collapsed": false,
    "deletable": true,
    "editable": true
   },
   "outputs": [],
   "source": [
    "sub_csv_1.count()"
   ]
  },
  {
   "cell_type": "code",
   "execution_count": null,
   "metadata": {
    "collapsed": false,
    "deletable": true,
    "editable": true
   },
   "outputs": [],
   "source": [
    "sub_csv_1.take(3)"
   ]
  },
  {
   "cell_type": "code",
   "execution_count": null,
   "metadata": {
    "collapsed": true,
    "deletable": true,
    "editable": true
   },
   "outputs": [],
   "source": [
    "from pyspark.sql import SQLContext\n",
    "from pyspark.sql.types import *\n",
    "\n",
    "schema = StructType([StructField(\"PassengerId\", IntegerType(), False),StructField(\"Survived\", IntegerType(), False)])\n",
    "s_df = sqlContext.createDataFrame(sub_csv_1, schema)\n",
    "s_df.registerTempTable(\"SolutionThree\")"
   ]
  },
  {
   "cell_type": "code",
   "execution_count": null,
   "metadata": {
    "collapsed": false,
    "deletable": true,
    "editable": true
   },
   "outputs": [],
   "source": [
    "spark.sql(\"SELECT * FROM SolutionThree\").show()\n"
   ]
  },
  {
   "cell_type": "code",
   "execution_count": null,
   "metadata": {
    "collapsed": false
   },
   "outputs": [],
   "source": [
    "# another way to compute our \"performance\" regarding this model\n",
    "from pyspark.mllib.evaluation import BinaryClassificationMetrics\n",
    "# Instantiate metrics object\n",
    "metrics = BinaryClassificationMetrics(labelsAndPredictions)\n",
    "\n",
    "# Area under precision-recall curve\n",
    "print(\"Area under PR = %s\" % metrics.areaUnderPR)\n",
    "\n",
    "# Area under ROC curve\n",
    "print(\"Area under ROC = %s\" % metrics.areaUnderROC)\n"
   ]
  },
  {
   "cell_type": "markdown",
   "metadata": {
    "deletable": true,
    "editable": true
   },
   "source": [
    "## if you were to submit to Kaggle\n",
    "## You'd get a score of ~0.775124, Rank : 1147"
   ]
  },
  {
   "cell_type": "markdown",
   "metadata": {
    "deletable": true,
    "editable": true
   },
   "source": [
    "### Would Random Forest do any Better ?"
   ]
  },
  {
   "cell_type": "markdown",
   "metadata": {
    "deletable": true,
    "editable": true
   },
   "source": [
    "## Coding Exercise #31\n",
    "###1. Model RandomForest\n",
    "###2. Predict Test Set\n",
    "###3. Compute \"Performance\"\n",
    "###4. Did we do any better ?"
   ]
  },
  {
   "cell_type": "code",
   "execution_count": null,
   "metadata": {
    "collapsed": true,
    "deletable": true,
    "editable": true
   },
   "outputs": [],
   "source": []
  }
 ],
 "metadata": {
  "anaconda-cloud": {},
  "kernelspec": {
   "display_name": "Python [Root]",
   "language": "python",
   "name": "Python [Root]"
  },
  "language_info": {
   "codemirror_mode": {
    "name": "ipython",
    "version": 3
   },
   "file_extension": ".py",
   "mimetype": "text/x-python",
   "name": "python",
   "nbconvert_exporter": "python",
   "pygments_lexer": "ipython3",
   "version": "3.5.2"
  },
  "name": "05_Titanic-2",
  "notebookId": 66003
 },
 "nbformat": 4,
 "nbformat_minor": 0
}
